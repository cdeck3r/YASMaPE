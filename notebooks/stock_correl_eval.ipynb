{
 "cells": [
  {
   "cell_type": "markdown",
   "id": "2152f52d-ee35-4ab7-8a15-fa4571fe4792",
   "metadata": {},
   "source": [
    "# Stock Correlation\n",
    "\n",
    "This notebook analyses an often heard hypothesis of stock correlations: There are stocks which follow in their trends one after an other within a short time window. If such correlations are predictable, we can exploit them for buy/sell signals. \n",
    "\n",
    "Our analysis looks for such correlations and discuss whether they are predictable."
   ]
  },
  {
   "cell_type": "markdown",
   "id": "f3730db7-62a5-4fc0-bbc8-0c04748a74ed",
   "metadata": {},
   "source": [
    "## Evaluation and Predictability\n",
    "\n",
    "This notebook takes the probabilities for correlated stocks from [stock_correl.ipynb](stock_correl.ipynb) and evaluates them statistically. The correlation analysis yields $P(R2>x|S1>c)$, that is the probability  that stock2's return is larger than $x\\%$, given stock1's slope exceeds a given limit $c$. This tells us some believe in the slope/return correspondence or correlation hypothesis. \n",
    "\n",
    "However, the number alone is not necessarily useful, because the condition $S1>c$ constrains the probability. Say, $S1>c$ occurs rarly and in those situations we often find a high return for stock2 shortly afterwards, as a result, we will have a high probability. However, to exploit the slope/return correspondence, we need to know if the condition is predictable. "
   ]
  },
  {
   "cell_type": "markdown",
   "id": "d9da5188-7b5f-4345-a7bc-64eb52e0e99a",
   "metadata": {},
   "source": [
    "Note, we do not want to predict when the condition $S1\\gt c$ appears, but investigate its predictability. So, we are not interested in a prediction model, but rather in properties to guide the development of a prediction model."
   ]
  },
  {
   "cell_type": "markdown",
   "id": "ee2c5c3c-a1f2-488c-abd0-1b6fa2855d87",
   "metadata": {},
   "source": [
    "At the beginning we review selected results from the previous notebook. Afterwards, we investigate the following approaches to evaluate predictability:\n",
    "\n",
    "* Entropy\n",
    "* $\\chi^2$ Testing\n",
    "* Poisson Analysis using Bayesian Statistics"
   ]
  },
  {
   "cell_type": "markdown",
   "id": "13051741-0889-405d-9e70-71f2b77ef996",
   "metadata": {},
   "source": [
    "### Parameters"
   ]
  },
  {
   "cell_type": "code",
   "execution_count": 1,
   "id": "a4979d29-7046-4bb2-89f6-86cc208a41a9",
   "metadata": {
    "tags": [
     "parameters"
    ]
   },
   "outputs": [],
   "source": [
    "input_file = './SMI.CH_IXX.DE_stats.parquet'\n",
    "dataset_file = './SMI.CH_IXX.DE.parquet'\n",
    "\n",
    "input_file = '/YASMaPE/data/stock_correl/results/MUX.DE_IXX.DE_stats.parquet'\n",
    "dataset_file = '/YASMaPE/data/stock_correl/intermediate/MUX.DE_IXX.DE.parquet'"
   ]
  },
  {
   "cell_type": "markdown",
   "id": "dd9658dc-d28d-4945-a180-a0c04b69e71c",
   "metadata": {},
   "source": [
    "### Imports"
   ]
  },
  {
   "cell_type": "code",
   "execution_count": 2,
   "id": "b1c850cc-7a7d-4e1a-9ee5-23e843fd76fd",
   "metadata": {
    "tags": []
   },
   "outputs": [],
   "source": [
    "# libs we need\n",
    "import os\n",
    "import pandas as pd\n",
    "import statsmodels.api as sm\n",
    "import numpy as np\n",
    "import statistics\n",
    "from statsmodels.distributions.empirical_distribution import ECDF\n",
    "import scipy.stats as stats\n",
    "\n",
    "# plotting\n",
    "import matplotlib.pyplot as plt\n",
    "import math\n",
    "\n",
    "# date calculations\n",
    "from datetime import datetime\n",
    "from datetime import timedelta\n",
    "\n",
    "# optimize, credible interval computation\n",
    "from scipy import optimize"
   ]
  },
  {
   "cell_type": "markdown",
   "id": "442437eb-2ecb-42d4-bffd-01d7d3c67045",
   "metadata": {},
   "source": [
    "Extract stock names from `input_file` name."
   ]
  },
  {
   "cell_type": "code",
   "execution_count": 3,
   "id": "e9751cd9-2e79-46cd-a173-48af3e4ad59c",
   "metadata": {
    "tags": []
   },
   "outputs": [],
   "source": [
    "bname = os.path.basename(input_file)\n",
    "# s1_s2_XXX.parquet -> s1_s2\n",
    "str_list = bname.split('_',2)\n",
    "str_list.pop()\n",
    "bname = \"_\".join(str_list)\n",
    "\n",
    "# s1_s2 -> s1 s2\n",
    "stock_names = [s for s in bname.split('_',1)]\n",
    "stock1_name = stock_names[0]\n",
    "stock2_name = stock_names[1]"
   ]
  },
  {
   "cell_type": "markdown",
   "id": "98678504-dfea-4e1e-ac96-1890e2e681de",
   "metadata": {},
   "source": [
    "### Load Data\n",
    "\n",
    "Load data from `.parquet` file."
   ]
  },
  {
   "cell_type": "code",
   "execution_count": 4,
   "id": "ad899993-f658-44ee-af6e-5af983f76b9f",
   "metadata": {},
   "outputs": [
    {
     "name": "stdout",
     "output_type": "stream",
     "text": [
      "Data rows in /YASMaPE/data/stock_correl/results/MUX.DE_IXX.DE_stats.parquet: 60\n"
     ]
    }
   ],
   "source": [
    "stock2_returns = pd.read_parquet(input_file)\n",
    "\n",
    "# Summary stats\n",
    "print('Data rows in {}: {}'.format(input_file, len(stock2_returns)))"
   ]
  },
  {
   "cell_type": "code",
   "execution_count": 5,
   "id": "85ea73df-4f24-47fe-9bef-9a0801a5d7a7",
   "metadata": {},
   "outputs": [],
   "source": [
    "thr_limits = list(stock2_returns['thr_stock1'])"
   ]
  },
  {
   "cell_type": "markdown",
   "id": "024cef1b-b2cd-43fc-935f-94a788cad291",
   "metadata": {},
   "source": [
    "We need the stock1/stock2 correspondence data from the dataset file as well."
   ]
  },
  {
   "cell_type": "code",
   "execution_count": 6,
   "id": "3f1627a2-2ff3-450d-a081-a848260fe024",
   "metadata": {},
   "outputs": [
    {
     "name": "stdout",
     "output_type": "stream",
     "text": [
      "Data rows in /YASMaPE/data/stock_correl/results/MUX.DE_IXX.DE_stats.parquet: 198750\n",
      "Data samples for stock correspondences of MUX.DE/IXX.DE : 89761\n"
     ]
    }
   ],
   "source": [
    "stock_correspond = pd.read_parquet(dataset_file)\n",
    "\n",
    "# Summary stats\n",
    "print('Data rows in {}: {}'.format(input_file, len(stock_correspond)))\n",
    "\n",
    "# only consider real slopes, i.e. slopes which significantly differ from 0 \n",
    "stock_correspond = stock_correspond[stock_correspond['H0_rejected_stock2'] == True]\n",
    "stock_correspond = stock_correspond[stock_correspond['H0_rejected_stock1'] == True]\n",
    "print('Data samples for stock correspondences of {}/{} : {}'.format(stock1_name, stock2_name, len(stock_correspond)))"
   ]
  },
  {
   "cell_type": "code",
   "execution_count": 7,
   "id": "1e256b6b-206d-4040-80c2-84699d9db8cc",
   "metadata": {},
   "outputs": [],
   "source": [
    "slopes = stock_correspond[['slope_stock1', 'slope_stock2', 'win_length_stock1', 'win_length_stock2', 'return_stock2']].reset_index(drop=True)\n",
    "slopes['win_diff'] = slopes['win_length_stock1'] - slopes['win_length_stock2']"
   ]
  },
  {
   "cell_type": "markdown",
   "id": "7c4057b6-254f-4db8-8280-b19ad198e030",
   "metadata": {},
   "source": [
    "### Review: Probabilities\n",
    "\n",
    "We review results from the previous notebook and plot the probabilities that stock2 decreases, i.e. $S2 \\leq 0.0$, or $R2$ exceeds more than $10\\%$, if stock's $S1$ slope exceeds a certain threshold."
   ]
  },
  {
   "cell_type": "code",
   "execution_count": 8,
   "id": "6752ef4d-2ffb-4f50-a19b-72ad01c2d7db",
   "metadata": {
    "tags": []
   },
   "outputs": [
    {
     "data": {
      "text/plain": [
       "Text(0.5, 1.0, 'Probability that IXX.DE achieves return greater 10%')"
      ]
     },
     "execution_count": 8,
     "metadata": {},
     "output_type": "execute_result"
    },
    {
     "data": {
      "image/png": "[encoded data removed]",
      "text/plain": [
       "<Figure size 640x480 with 1 Axes>"
      ]
     },
     "metadata": {},
     "output_type": "display_data"
    },
    {
     "data": {
      "image/png": "[encoded data removed]",
      "text/plain": [
       "<Figure size 640x480 with 1 Axes>"
      ]
     },
     "metadata": {},
     "output_type": "display_data"
    }
   ],
   "source": [
    "ax1 = stock2_returns.plot.scatter(x='thr_stock1', y='P(S2<=0.0)')\n",
    "ax1.set_xlabel('{} slope threshold'.format(stock1_name))\n",
    "ax1.set_title('Probability that {} decreases'.format(stock2_name))\n",
    "\n",
    "ax1 = stock2_returns.plot.scatter(x='thr_stock1', y='P(R2>0.1)')\n",
    "ax1.set_xlabel('{} slope threshold'.format(stock1_name))\n",
    "ax1.set_title('Probability that {} achieves return greater 10%'.format(stock2_name))"
   ]
  },
  {
   "cell_type": "code",
   "execution_count": 9,
   "id": "f73eb0bc-7a1a-4feb-9a0d-9534b0f37571",
   "metadata": {
    "tags": []
   },
   "outputs": [
    {
     "data": {
      "text/html": [
       "<div>\n",
       "<style scoped>\n",
       "    .dataframe tbody tr th:only-of-type {\n",
       "        vertical-align: middle;\n",
       "    }\n",
       "\n",
       "    .dataframe tbody tr th {\n",
       "        vertical-align: top;\n",
       "    }\n",
       "\n",
       "    .dataframe thead th {\n",
       "        text-align: right;\n",
       "    }\n",
       "</style>\n",
       "<table border=\"1\" class=\"dataframe\">\n",
       "  <thead>\n",
       "    <tr style=\"text-align: right;\">\n",
       "      <th></th>\n",
       "      <th>thr_stock1</th>\n",
       "      <th>P(S2&lt;=0.0)</th>\n",
       "      <th>P(R2&gt;0.05)</th>\n",
       "      <th>P(R2&gt;0.1)</th>\n",
       "      <th>P(R2&gt;0.15)</th>\n",
       "      <th>P(R2&gt;0.2)</th>\n",
       "      <th>P(R2&gt;0.25)</th>\n",
       "      <th>P(R2&gt;0.3)</th>\n",
       "      <th>P(R2&gt;0.35)</th>\n",
       "      <th>P(R2&gt;0.4)</th>\n",
       "      <th>...</th>\n",
       "      <th>P(R2&gt;0.5)</th>\n",
       "      <th>P(R2&gt;0.55)</th>\n",
       "      <th>P(R2&gt;0.6)</th>\n",
       "      <th>P(R2&gt;0.65)</th>\n",
       "      <th>P(R2&gt;0.7)</th>\n",
       "      <th>P(R2&gt;0.75)</th>\n",
       "      <th>P(R2&gt;0.8)</th>\n",
       "      <th>P(R2&gt;0.85)</th>\n",
       "      <th>P(R2&gt;0.9)</th>\n",
       "      <th>P(R2&gt;0.95)</th>\n",
       "    </tr>\n",
       "  </thead>\n",
       "  <tbody>\n",
       "    <tr>\n",
       "      <th>49</th>\n",
       "      <td>0.294224</td>\n",
       "      <td>0.216877</td>\n",
       "      <td>0.721609</td>\n",
       "      <td>0.503155</td>\n",
       "      <td>0.171136</td>\n",
       "      <td>0.033123</td>\n",
       "      <td>0.009464</td>\n",
       "      <td>0.0</td>\n",
       "      <td>0.0</td>\n",
       "      <td>0.0</td>\n",
       "      <td>...</td>\n",
       "      <td>0.0</td>\n",
       "      <td>0.0</td>\n",
       "      <td>0.0</td>\n",
       "      <td>0.0</td>\n",
       "      <td>0.0</td>\n",
       "      <td>0.0</td>\n",
       "      <td>0.0</td>\n",
       "      <td>0.0</td>\n",
       "      <td>0.0</td>\n",
       "      <td>0.0</td>\n",
       "    </tr>\n",
       "  </tbody>\n",
       "</table>\n",
       "<p>1 rows × 21 columns</p>\n",
       "</div>"
      ],
      "text/plain": [
       "    thr_stock1  P(S2<=0.0)  P(R2>0.05)  P(R2>0.1)  P(R2>0.15)  P(R2>0.2)  \\\n",
       "49    0.294224    0.216877    0.721609   0.503155    0.171136   0.033123   \n",
       "\n",
       "    P(R2>0.25)  P(R2>0.3)  P(R2>0.35)  P(R2>0.4)  ...  P(R2>0.5)  P(R2>0.55)  \\\n",
       "49    0.009464        0.0         0.0        0.0  ...        0.0         0.0   \n",
       "\n",
       "    P(R2>0.6)  P(R2>0.65)  P(R2>0.7)  P(R2>0.75)  P(R2>0.8)  P(R2>0.85)  \\\n",
       "49        0.0         0.0        0.0         0.0        0.0         0.0   \n",
       "\n",
       "    P(R2>0.9)  P(R2>0.95)  \n",
       "49        0.0         0.0  \n",
       "\n",
       "[1 rows x 21 columns]"
      ]
     },
     "execution_count": 9,
     "metadata": {},
     "output_type": "execute_result"
    }
   ],
   "source": [
    "# Probability that S2 decreases is less than threshold\n",
    "P_S2_leq_0_threshold = 0.25\n",
    "\n",
    "# get the index where this threshold holds\n",
    "# implicit assumption: \n",
    "# P_S2 monotonically decreases from this threshold on\n",
    "P_S2_leq_0 = stock2_returns[stock2_returns['P(S2<=0.0)']<P_S2_leq_0_threshold].sort_values('P(S2<=0.0)', ascending=False).head(1)\n",
    "P_S2_leq_0_idx = P_S2_leq_0.index[0]\n",
    "P_S2_leq_0"
   ]
  },
  {
   "cell_type": "markdown",
   "id": "71241eba-1a42-4241-b6c7-50457300644f",
   "metadata": {},
   "source": [
    "### Review: First Results and Discussion\n",
    "\n",
    "We start with some conrete example results derived from the systematic analysis. In all examples, we provide results under the condition $S_1 \\ge c$, where $c$ is the last threshold limit from previous analysis.\n",
    "\n",
    "At the end, we also discuss quality of our results for prediction tasks."
   ]
  },
  {
   "cell_type": "code",
   "execution_count": 10,
   "id": "599fb8e2-c6d2-4afe-9367-5ebce267a2bd",
   "metadata": {},
   "outputs": [],
   "source": [
    "# the slope threshold we use for all result discussions\n",
    "c = thr_limits[-1]"
   ]
  },
  {
   "cell_type": "code",
   "execution_count": 11,
   "id": "950ca147-74dd-4ad2-a171-fda6eb1cd423",
   "metadata": {
    "tags": []
   },
   "outputs": [],
   "source": [
    "c = stock2_returns.iloc[P_S2_leq_0_idx]['thr_stock1']"
   ]
  },
  {
   "cell_type": "code",
   "execution_count": 12,
   "id": "5750d07d-3f14-4caf-b776-f63e8a088444",
   "metadata": {},
   "outputs": [
    {
     "name": "stdout",
     "output_type": "stream",
     "text": [
      "In the case, the MUX.DE slope is larger than 0.29422406763110054, we find:\n",
      "\n",
      "\t* Probability of IXX.DE decreasing is 21.69%.\n",
      "\t* Probability of IXX.DE return > 5.0% is 72.16%.\n",
      "\t* Probability of IXX.DE return > 10.0% is 50.32%.\n",
      "\t* Probability of IXX.DE return > 15.0% is 17.11%.\n",
      "\t* Probability of IXX.DE return > 20.0% is 3.31%.\n"
     ]
    }
   ],
   "source": [
    "print('In the case, the {} slope is larger than {}, we find:\\n'.format(stock1_name,c))\n",
    "\n",
    "# Compute probabilities\n",
    "row = stock2_returns[stock2_returns['thr_stock1'] == c]\n",
    "x = 0.0\n",
    "prob = row['P(S2<={})'.format(x)].iloc[0]\n",
    "print('\\t* Probability of {} decreasing is {}%.'.format(stock2_name, round(prob*100,2)))\n",
    "x_stock2_returns = [0.05, 0.1, 0.15, 0.2]\n",
    "for x in x_stock2_returns:\n",
    "    prob = row['P(R2>{})'.format(x)].iloc[0]\n",
    "    print('\\t* Probability of {} return > {}% is {}%.'.format(stock2_name, x*100, round(prob*100,2)))"
   ]
  },
  {
   "cell_type": "markdown",
   "id": "3edb0fcf-d380-416b-9129-248e5dcfdd49",
   "metadata": {},
   "source": [
    "Let's plot the distributions of stock2's slopes and returns."
   ]
  },
  {
   "cell_type": "code",
   "execution_count": 13,
   "id": "0876336a-4d09-4821-8b90-5c070106e45c",
   "metadata": {},
   "outputs": [
    {
     "name": "stdout",
     "output_type": "stream",
     "text": [
      "In the case, the MUX.DE slope is larger than 0.29422406763110054, we find:\n",
      "\n",
      "Avg. slope of IXX.DE: 0.20521491378987172\n",
      "Avg. return of IXX.DE: 0.07256943875655825\n"
     ]
    },
    {
     "data": {
      "image/png": "[encoded data removed]",
      "text/plain": [
       "<Figure size 1200x400 with 2 Axes>"
      ]
     },
     "metadata": {},
     "output_type": "display_data"
    }
   ],
   "source": [
    "# select the results for stock1's slope exceeding c\n",
    "slopes_stock1_gt_c = slopes[slopes['slope_stock1'] > c]\n",
    "\n",
    "fig, axes = plt.subplots(nrows=1, ncols=2, figsize=(12, 4))\n",
    "slopes_stock1_gt_c.slope_stock2.hist(density=True, ax=axes[0])\n",
    "axes[0].set_title('Slopes distribution for {} (slopes {} >= {}...)'.format(stock2_name, stock1_name, round(c,3)))\n",
    "axes[0].set_xlabel('Slope of {}'.format(stock2_name))\n",
    "slopes_stock1_gt_c.return_stock2.hist(density=True, ax=axes[1])\n",
    "axes[1].set_title('Return distribution for {} (slopes {} >= {}...)'.format(stock2_name, stock1_name, round(c,3)))\n",
    "axes[1].set_xlabel('Returns of {}'.format(stock2_name))\n",
    "axes[0].set_ylabel('Density')\n",
    "\n",
    "# Some stats for both\n",
    "mean_slope_stock2 = statistics.mean(slopes_stock1_gt_c['slope_stock2'])\n",
    "mean_return_stock2 = statistics.mean(slopes_stock1_gt_c['return_stock2'])\n",
    "\n",
    "print('In the case, the {} slope is larger than {}, we find:\\n'.format(stock1_name,c))\n",
    "print('Avg. slope of {}: {}'.format(stock2_name, mean_slope_stock2))\n",
    "print('Avg. return of {}: {}'.format(stock2_name, mean_return_stock2))"
   ]
  },
  {
   "cell_type": "markdown",
   "id": "421ffad8-6b18-4598-85c8-0649c668d5c1",
   "metadata": {},
   "source": [
    "At the first glance, the findings from above look promising. However, these results stem from the past. They do not tell us anything about the prediction quality. \n",
    "Firstly, it is rather rare for stock's slope to exceed the threshold from the above example. Secondly, slopes exceeding the thresholds may have just occured in the near past. Previous to that the slopes may have not shown this behavior.\n",
    "\n",
    "As a consequence, we have additional requirements.\n",
    "\n",
    "1. Split data into two sets: one for analysis and one for testing the analysis results. \n",
    "1. Conditions, e.g. slopes exceeding the thresholds, are not just found in one short time intervall over all observations. Rather, these conditions shall be distributed across all observations from analysis data set."
   ]
  },
  {
   "cell_type": "markdown",
   "id": "9cf324f9-4de6-4ff2-b360-1e9819c5d8ae",
   "metadata": {},
   "source": [
    "### Stock1 Slope Pattern in the Slope/Return Correspondence\n",
    "\n",
    "In order to exploit our findings about the slope/return correspondence, we are interested in the temporal distribution of those stock1 slopes which corresponds to the large stock2 returns. \n",
    "\n",
    "Just to illustrate the distribution, we show how rare slopes with a threshold limit larger than $c$ are. "
   ]
  },
  {
   "cell_type": "code",
   "execution_count": 14,
   "id": "77c8f233-3251-41a7-8327-0c52e2d9e98e",
   "metadata": {},
   "outputs": [
    {
     "name": "stdout",
     "output_type": "stream",
     "text": [
      "Number of observation days: \t\t337\n",
      "Number of slopes exceeding 0.294: \t24\n"
     ]
    }
   ],
   "source": [
    "# slopes exeeding thresholds are rare\n",
    "num_obs = len(set(stock_correspond.reset_index()['date_stock1'])) \n",
    "s = stock_correspond.reset_index()[['date_stock1', 'slope_stock1']]\n",
    "s = s[s['slope_stock1'] >= c]\n",
    "num_slopes = len(set(s['date_stock1']))\n",
    "\n",
    "print('Number of observation days: \\t\\t{}'.format(num_obs))\n",
    "print('Number of slopes exceeding {}: \\t{}'.format(round(c,3),num_slopes))"
   ]
  },
  {
   "cell_type": "markdown",
   "id": "75befce6-9990-4a05-8cbc-41e73fbee1ab",
   "metadata": {},
   "source": [
    "How do the days with exceedings slopes distribute across all observations days? Do they cluster?"
   ]
  },
  {
   "cell_type": "code",
   "execution_count": 15,
   "id": "e9f3d0ed-ffd9-49db-b2b2-e1c1f423ffd2",
   "metadata": {},
   "outputs": [],
   "source": [
    "stock1_dates = list(set(stock_correspond.reset_index()['date_stock1']))\n",
    "stock1_dates.sort()\n",
    "not_exceeds_c = [False] * len(stock1_dates)\n",
    "df_not_exceeds_c = pd.DataFrame(data=not_exceeds_c, index=stock1_dates, columns=['not_exceeds_c'])\n",
    "\n",
    "slope_dates = list(set(s['date_stock1']))\n",
    "slope_dates.sort()\n",
    "exceeds_c = [True] * len(slope_dates)\n",
    "df_exceeds_c = pd.DataFrame(data=exceeds_c, index=slope_dates, columns=['exceeds_c'])"
   ]
  },
  {
   "cell_type": "code",
   "execution_count": 16,
   "id": "6a71e33a-f391-45ec-919a-07bb6fb8ba06",
   "metadata": {},
   "outputs": [
    {
     "name": "stdout",
     "output_type": "stream",
     "text": [
      "The 24 dates where the MUX.DE slopes >= 0.29422406763110054\n"
     ]
    },
    {
     "data": {
      "text/plain": [
       "['2022-03-03',\n",
       " '2022-03-04',\n",
       " '2022-03-07',\n",
       " '2022-03-08',\n",
       " '2022-03-09',\n",
       " '2022-03-10',\n",
       " '2022-03-11',\n",
       " '2022-03-14',\n",
       " '2022-03-15',\n",
       " '2022-05-24',\n",
       " '2022-05-25',\n",
       " '2022-05-26',\n",
       " '2022-05-27',\n",
       " '2022-07-13',\n",
       " '2022-07-14',\n",
       " '2022-07-15',\n",
       " '2022-11-02',\n",
       " '2022-11-03',\n",
       " '2022-11-04',\n",
       " '2022-11-07',\n",
       " '2022-12-27',\n",
       " '2022-12-28',\n",
       " '2022-12-29',\n",
       " '2022-12-30']"
      ]
     },
     "execution_count": 16,
     "metadata": {},
     "output_type": "execute_result"
    }
   ],
   "source": [
    "print('The {} dates where the {} slopes >= {}'.format(len(slope_dates), stock1_name, c))\n",
    "slope_dates"
   ]
  },
  {
   "cell_type": "markdown",
   "id": "a7e9dff8-7cd2-4559-b337-d690d5554a92",
   "metadata": {},
   "source": [
    "Visualize above dates using a histogram across all observation days."
   ]
  },
  {
   "cell_type": "code",
   "execution_count": 17,
   "id": "f0c11e74-6cd2-4289-bc79-4bd39eb76aef",
   "metadata": {},
   "outputs": [],
   "source": [
    "# join frames together and replace all NaN with False\n",
    "df = df_not_exceeds_c.join(df_exceeds_c).fillna(False)\n",
    "df = df.drop(['not_exceeds_c'], axis=1)\n",
    "df = df.reset_index() # retrieve date from stock1\n",
    "df = df.rename(columns={'index':'date_stock1'})\n",
    "df = df.assign(days_back=list(range(-len(df)+1,1))) # enumerate date as dates in the past"
   ]
  },
  {
   "cell_type": "code",
   "execution_count": 18,
   "id": "e005c041-9aa4-442d-9efc-334963bf2040",
   "metadata": {},
   "outputs": [
    {
     "data": {
      "text/plain": [
       "Text(0.5, 0, 'Days back from last observation day 2023-02-09')"
      ]
     },
     "execution_count": 18,
     "metadata": {},
     "output_type": "execute_result"
    },
    {
     "data": {
      "image/png": "[encoded data removed]",
      "text/plain": [
       "<Figure size 640x480 with 1 Axes>"
      ]
     },
     "metadata": {},
     "output_type": "display_data"
    }
   ],
   "source": [
    "# plot as histogram\n",
    "df.groupby('exceeds_c')['days_back'].plot(kind='hist', bins=int(len(df)/2), density=True)\n",
    "plt.title('Occurance of the event {} slopes >= {}..'.format(stock1_name, round(c,3)))\n",
    "plt.legend(['False', 'True'], title='{} slopes >= {}..'.format(stock1_name, round(c,3)))\n",
    "plt.xlabel('Days back from last observation day {}'.format(stock1_dates[-1]))"
   ]
  },
  {
   "cell_type": "markdown",
   "id": "a900755d-e779-40f4-a4a9-63b349af6ecd",
   "metadata": {},
   "source": [
    "## Predictability\n",
    "\n",
    "We would like to estimate to some level of confidence, that the observed stock1 slopes will happen in the near future. Since we do not know the data generating process for stock1 slopes, predictability arises only  from the regularity of past event occurences, that is the occurence of stock1 slopes exceeding a certain threshold. This is rather simple, but a regular reoccuring pattern of events can be expected to continue in the future. Although this continuity is only speculative, we want to formulate a confidence measure which tells random occurence and a reoccuring pattern apart. \n",
    "\n",
    "This is guided by the following intuition: The more often or regular the events have occurred in the past, we have a higher confidence they will repeat in the near future. If those events were rather rare in the past, well, they might have appeared by chance and it is unlikely we see them again in the near future other than just by pure chance."
   ]
  },
  {
   "cell_type": "markdown",
   "id": "33c23a64-79cb-4c8f-aa4f-6429b86a3fa7",
   "metadata": {},
   "source": [
    "### Entropy Measure for Predictability\n",
    "\n",
    "In this section we use an entropy measure to quantify predictability by investigating the regularity in which days with slope larger than $c$ occur. Here, the [Shannon entropy](https://en.wikipedia.org/wiki/Entropy_(information_theory)) is used as information measure, that is informally the amount of \"information, \"surprise\" or \"uncertainty\" of a discrete random variable's outcome measured in bits. A highly likely event provides less information or surprise than an unlikely event, because we basically _know_ that the event occurs. So, it does not come to our suprise.\n",
    "\n",
    "In our case, the random variable measures an event occurance in a time interval. The variable's values are the different time intervals. Let's say we have 8 intervals. In each interval an event may occur with a certain probability. All probabilities need to sum to $1$. If the probability in each interval is the same, it will yield an entropy of $log_2(8) = 3$. So, we need 3 bits to encode *all* event patterns across $8$ intervals. If the sequence of events is alternating, that is $0.25, 0, 0.25, 0, 0.25, 0, 0.25, 0$ with probability of $0.25$, we will need only $2$ bits to encode *all* event occurance patterns within $8$ intervals. The reason is that we know that in every second interval the event will definitely not occur. So, it does not not come to our surprise, that the number of different event patterns is less, resulting in a smaller entropy. If the event only occurs in the first interval, the entropy is $0$, because there is only one pattern of event occurance."
   ]
  },
  {
   "cell_type": "markdown",
   "id": "d05103c9-52f4-4741-a62c-ac7ad6782eaf",
   "metadata": {},
   "source": [
    "The approach applying the Shannon entropy information measure is to form bins from equi-distant time intervals and count the occurance of events in each bin. An event occurs when the stock1 slope is larger than a threshold limit $c$ within the bin. \n",
    "\n",
    "Let $b \\in \\mathcal{B}$ the bins and $p(b)$ the relative frequency that of events in bin $b$. The Shannon entropy is\n",
    "\n",
    "$$\n",
    "H = -\\sum_{b \\in \\mathcal{B}} p(b)log_2p(b)\n",
    "$$\n",
    "\n",
    "So, by changing the bin size, more or less events are allocated within a bin. A regular pattern may emerge, when the bin size is chosen so that the same number of events occur in each bin. Such a pattern has the maximal entropy, because the events do not cluster in certain bins, but are uniformly smeared across all bins. \n",
    "\n",
    "This may seem counter-intuitive. One could argue: If I know for sure that the event occurs in each bin, there is no surprise. As a consequence, the entropy is at its minimum value $0$. However, the phrase \"for sure\" denies the random nature of event occurance within bins. The overall number of events is fixed, because we have already observed them. So, I know for sure the number of events which have ocuured. Changing bins, allocates events randomly in different observation intervals. Predictability arises from the regularity of past event occurance, because that is a good prerequisite to extrapolate the event occurance pattern into the future.\n",
    "\n",
    "The more bins, each with smaller width, we define, the less likely it is that we find an event within a bin given a fixed overall number of events to be distributed on an increasing number of bins. So, this increases our a-priori knowledge that there is no event in bin. Therefore, more bins will decrease the entropy. The overall number of events yields an optimal entropy of $log_2(\\#\\textrm{events})$, that is the number of bits when events distribute uniformly. The number of bins requires an entropy of $log_2(\\#\\textrm{bins})$, if events need to be distributed uniformly. \n",
    "\n",
    "**Problem description:** Find an equi-distant bin distribution with optimal entropy. That is the number of equi-distant bins \n",
    "\n",
    "1. will let the entropy $H$ be close to $log_2(\\#\\textrm{events})$, \n",
    "1. $log_2(\\#\\textrm{bins})$ induced by the number of bins will be close to $log_2(\\#\\textrm{events})$\n",
    "\n",
    "Both conditions above will smear out the events across the bins. The result of this optimization is a number of _equi-distant bins_ where the events are allocated as uniformely as possible across all bins."
   ]
  },
  {
   "cell_type": "markdown",
   "id": "72c5bbb1-3186-4cb9-be2b-a5d347bd3140",
   "metadata": {},
   "source": [
    "The code below tests the entropy for varying bin sizes and find the optimal one. "
   ]
  },
  {
   "cell_type": "code",
   "execution_count": 19,
   "id": "6c8df995-734e-472a-97af-6a168e60e95a",
   "metadata": {
    "tags": []
   },
   "outputs": [],
   "source": [
    "days_back_exceeds_c = df[df['exceeds_c']==True].days_back\n",
    "num_days_back_exceed_c = len(days_back_exceeds_c)\n",
    "\n",
    "first_day_exceeds_c = days_back_exceeds_c.iloc[0]\n",
    "last_obs_day = df.iloc[-1].days_back"
   ]
  },
  {
   "cell_type": "code",
   "execution_count": 20,
   "id": "4ae2de34-c711-4114-ae1b-de3f4c94c72d",
   "metadata": {},
   "outputs": [],
   "source": [
    "\n",
    "######################################################\n",
    "# Helper functions\n",
    "######################################################\n",
    "#\n",
    "# compute equi-distant edges\n",
    "def _bin_edges(num_bins):\n",
    "    return np.linspace(first_day_exceeds_c, last_obs_day, num_bins+1)\n",
    "\n",
    "# compute bin frequencies\n",
    "def _hist_freq_bins(bin_edges):\n",
    "    freq, freq_bin_edges = np.histogram(days_back_exceeds_c.values, bins=bin_edges, density=False)\n",
    "    freq = freq.astype(float)\n",
    "    freq /= num_days_back_exceed_c\n",
    "    return freq, freq_bin_edges\n",
    "\n",
    "# entropy (= num of bits) for \n",
    "# ... event pattern given the num_bins, \n",
    "# ... signal days - bits to encode the number of days we have a pattern signal\n",
    "# ... number of bins - bits to encode the event pattern, if events may occur in each bin  \n",
    "def _bit_entropy(freq, num_bins, num_signal_days=num_days_back_exceed_c, base=2):\n",
    "    H = stats.entropy(freq, base=base)\n",
    "    Hbits = H\n",
    "    Sbits = math.log(num_signal_days,base)\n",
    "    Bbits = math.log(num_bins,base)\n",
    "    return Hbits, Sbits, Bbits\n",
    "\n",
    "######################################################\n",
    "    \n",
    "# initialize \n",
    "res_stock1_slope_entropy = []\n",
    "min_dist = math.ceil(math.log(-first_day_exceeds_c,2))\n",
    "best_num_bins = -1\n",
    "\n",
    "# all bins to loop through\n",
    "all_bins = range(1, -days_back_exceeds_c.iloc[0]+1)\n",
    "# loop through all bin numbers\n",
    "for num_bins in all_bins:\n",
    "    bin_edges = _bin_edges(num_bins)\n",
    "    \n",
    "    # compute bin frequencies\n",
    "    freq, freq_bin_edges = _hist_freq_bins(bin_edges)\n",
    "    \n",
    "    # compute entropy\n",
    "    Hbits, Sbits, Bbits = _bit_entropy(freq, num_bins=num_bins)\n",
    "    \n",
    "    # compute the L2 norm of the vector (a_1, a_2), with\n",
    "    # a_1 = signal bits - pattern bits (implements 1. from problem description)\n",
    "    # a_2 = bin bits - signal bits (implements 2. from problem description)\n",
    "    a = np.array((round(Sbits-Hbits,2), round(Bbits-Sbits,2)))\n",
    "    dist = np.linalg.norm(a)\n",
    "    # log minimal dist and its bin\n",
    "    if dist < min_dist:\n",
    "        min_dist = dist\n",
    "        best_num_bins = num_bins\n",
    "    \n",
    "    # store results\n",
    "    res_stock1_slope_entropy.append((num_bins, dist, Hbits, Sbits, Bbits))"
   ]
  },
  {
   "cell_type": "code",
   "execution_count": 21,
   "id": "95e8cc57-112f-4d3b-a14c-aadabdf63c28",
   "metadata": {},
   "outputs": [],
   "source": [
    "# compile dataframe from result list\n",
    "num_bins_indices = [num_bin for num_bin in list(zip(*res_stock1_slope_entropy))[0]]\n",
    "colnames = ['num_bins', 'dist', 'Hbits', 'Sbits', 'Bbits']\n",
    "stock1_slope_entropy = pd.DataFrame(data=res_stock1_slope_entropy, columns=colnames, index=num_bins_indices).dropna()\n",
    "stock1_slope_entropy.index.name = colnames[0]\n",
    "stock1_slope_entropy = stock1_slope_entropy.drop(labels=stock1_slope_entropy.index.name, axis=1)"
   ]
  },
  {
   "cell_type": "code",
   "execution_count": 22,
   "id": "bce33d87-c052-4f25-986f-d89f7690c54d",
   "metadata": {},
   "outputs": [
    {
     "name": "stdout",
     "output_type": "stream",
     "text": [
      "Best number of bins: 39\n",
      "\n",
      "Entropy of event pattern [bit] / signal days [bit] / bins [bit]:\n",
      "2.901363669197544 / 4.584962500721157 / 5.285402218862249\n"
     ]
    }
   ],
   "source": [
    "# compute entropy for best number of bins\n",
    "freq, freq_bin_edges = _hist_freq_bins(_bin_edges(best_num_bins))\n",
    "Hbits, Sbits, Bbits = _bit_entropy(freq, num_bins=best_num_bins)\n",
    "\n",
    "print('Best number of bins: {}\\n'.format(best_num_bins))\n",
    "print('Entropy of event pattern [bit] / signal days [bit] / bins [bit]:\\n{} / {} / {}'.format(Hbits, Sbits, Bbits))"
   ]
  },
  {
   "cell_type": "code",
   "execution_count": 23,
   "id": "673ed3b8-02f9-4f2d-b249-f050d4df1854",
   "metadata": {},
   "outputs": [
    {
     "name": "stdout",
     "output_type": "stream",
     "text": [
      "Frequencies per bin and bin endges:\n"
     ]
    },
    {
     "data": {
      "text/plain": [
       "(array([0.29166667, 0.08333333, 0.        , 0.        , 0.        ,\n",
       "        0.        , 0.        , 0.        , 0.        , 0.16666667,\n",
       "        0.        , 0.        , 0.        , 0.        , 0.08333333,\n",
       "        0.04166667, 0.        , 0.        , 0.        , 0.        ,\n",
       "        0.        , 0.        , 0.        , 0.        , 0.        ,\n",
       "        0.        , 0.        , 0.08333333, 0.08333333, 0.        ,\n",
       "        0.        , 0.        , 0.        , 0.04166667, 0.125     ,\n",
       "        0.        , 0.        , 0.        , 0.        ]),\n",
       " array([-242.        , -235.79487179, -229.58974359, -223.38461538,\n",
       "        -217.17948718, -210.97435897, -204.76923077, -198.56410256,\n",
       "        -192.35897436, -186.15384615, -179.94871795, -173.74358974,\n",
       "        -167.53846154, -161.33333333, -155.12820513, -148.92307692,\n",
       "        -142.71794872, -136.51282051, -130.30769231, -124.1025641 ,\n",
       "        -117.8974359 , -111.69230769, -105.48717949,  -99.28205128,\n",
       "         -93.07692308,  -86.87179487,  -80.66666667,  -74.46153846,\n",
       "         -68.25641026,  -62.05128205,  -55.84615385,  -49.64102564,\n",
       "         -43.43589744,  -37.23076923,  -31.02564103,  -24.82051282,\n",
       "         -18.61538462,  -12.41025641,   -6.20512821,    0.        ]))"
      ]
     },
     "execution_count": 23,
     "metadata": {},
     "output_type": "execute_result"
    }
   ],
   "source": [
    "print('Frequencies per bin and bin endges:')\n",
    "\n",
    "freq, freq_bin_edges"
   ]
  },
  {
   "cell_type": "code",
   "execution_count": 24,
   "id": "67528d7c-026b-4ef7-8eaa-8dbf85aad3c9",
   "metadata": {},
   "outputs": [
    {
     "data": {
      "image/png": "[encoded data removed]",
      "text/plain": [
       "<Figure size 640x480 with 1 Axes>"
      ]
     },
     "metadata": {},
     "output_type": "display_data"
    }
   ],
   "source": [
    "# plot bins and their event frequencies \n",
    "plt.hist(days_back_exceeds_c, bins = freq_bin_edges, density=True) \n",
    "plt.title('Binned distribution of days with with {} slopes >= {}..\\nBest number of bins: {}'.format(stock1_name, round(c,3), best_num_bins)) \n",
    "plt.xlabel('Days back from last observation day {}'.format(stock1_dates[-1]))\n",
    "plt.ylabel('density')\n",
    "plt.show()"
   ]
  },
  {
   "cell_type": "markdown",
   "id": "c97113bf-f4d2-4657-9e13-7192bf53df1c",
   "metadata": {},
   "source": [
    "### Result: Entropy Measure for Predictability\n",
    "\n",
    "The problem was to find an equi-distant bin distribution with optimal entropy. That is the number of equi-distant bins \n",
    "\n",
    "1. will let the entropy $H$ be close to $log_2(\\#\\textrm{events})$, \n",
    "1. $log_2(\\#\\textrm{bins})$ induced by the number of bins will be close to $log_2(\\#\\textrm{events})$\n"
   ]
  },
  {
   "cell_type": "code",
   "execution_count": 25,
   "id": "8c925399-97ad-4464-be24-dc2dc354d3e2",
   "metadata": {
    "tags": []
   },
   "outputs": [
    {
     "name": "stdout",
     "output_type": "stream",
     "text": [
      "The number of equi-distant bins with the optimal entropy is: 39\n",
      "The bin width is 6.21 days.\n"
     ]
    }
   ],
   "source": [
    "print(\"The number of equi-distant bins with the optimal entropy is: {}\".format(best_num_bins))\n",
    "print(\"The bin width is {} days.\".format(round(0-freq_bin_edges[-2],2)))"
   ]
  },
  {
   "cell_type": "markdown",
   "id": "bd8144e6-743b-4711-a3cd-1fe86c397123",
   "metadata": {},
   "source": [
    "**Other Ideas**\n",
    "\n",
    "Using the Shannon entropy measure is not the only approach to quantify the prediction quality. Other definitions of entropy may apply as well, such as [approximate entropy](https://en.wikipedia.org/wiki/Approximate_entropy) or [sample entropy](https://en.wikipedia.org/wiki/Sample_entropy). A classical alternative is a [Discrete Fourier Transformation (DFT)](https://en.wikipedia.org/wiki/Discrete_Fourier_transform) to regress the event occurance pattern as a sum of sin/cosine frequencies."
   ]
  },
  {
   "cell_type": "markdown",
   "id": "be18455e-03b4-4130-bb09-e5037e60469f",
   "metadata": {},
   "source": [
    "### $\\chi^2$ Test for Uniformity\n",
    "\n",
    "When stock1 slope exceeds a given limit $c$, we call it an event occurrence. Since we do not know the data generating process for stock1 slopes, predictability arises only  from the regularity of past event occurences. In this section we consider regularity as close to a uniform distribution. \n",
    "\n",
    "We divide the observation days in $b$ bins of equal size. The value $n_i$ is the absolute count of events within a bin $b_i$.\n",
    "\n",
    "The $\\chi^2$ test tests the null hypothesis H0: the distribution of events is uniform."
   ]
  },
  {
   "cell_type": "code",
   "execution_count": 26,
   "id": "a03335cc-9878-4476-8747-bfe313a0cc5d",
   "metadata": {
    "tags": []
   },
   "outputs": [],
   "source": [
    "# re-create relevant variables \n",
    "# overwrites any changes from previous section\n",
    "days_back_exceeds_c = df[df['exceeds_c']==True].days_back\n",
    "num_days_back_exceed_c = len(days_back_exceeds_c)\n",
    "\n",
    "first_day_exceeds_c = days_back_exceeds_c.iloc[0]\n",
    "last_obs_day = df.iloc[-1].days_back"
   ]
  },
  {
   "cell_type": "code",
   "execution_count": 27,
   "id": "d0cd1cdb-f991-4940-bd23-cae9d737cf2d",
   "metadata": {
    "tags": []
   },
   "outputs": [],
   "source": [
    "# store chi2 pvalues for different num of bins\n",
    "res_stock1_slope_chi2 = []\n",
    "\n",
    "all_bins = range(1, -days_back_exceeds_c.iloc[0]+1)\n",
    "# loop through all bin numbers\n",
    "for num_bins in all_bins:\n",
    "    bin_edges = _bin_edges(num_bins)\n",
    "    # n absolute number of occurrence; n_bin_edges the left-side value of the bin limit\n",
    "    n, n_bin_edges = np.histogram(days_back_exceeds_c.values, bins=bin_edges, density=False)\n",
    "    \n",
    "    # expected occurances n_exp, when all observations are uniformly distributed across num_bins\n",
    "    n_exp = num_bins * [sum(n)/num_bins]\n",
    "    _, pvalue = stats.chisquare(n) # no need for f_exp, since we test for uniform distribution\n",
    "    res_stock1_slope_chi2.append((num_bins, min(n), pvalue))"
   ]
  },
  {
   "cell_type": "markdown",
   "id": "1c3a5b41-64a5-4917-af40-087fd2c1c4a8",
   "metadata": {},
   "source": [
    "The $\\chi^2$ statistic is sensitive to sample size. It is recommended to have at least 5 samples per bin and a total of more than 20. For a later consideration, we include the minimum number of samples in a bin in the result dataset."
   ]
  },
  {
   "cell_type": "code",
   "execution_count": 28,
   "id": "33d1d1b2-d890-4bfe-a9de-738b00c13af6",
   "metadata": {
    "tags": []
   },
   "outputs": [],
   "source": [
    "# compile dataframe from result list\n",
    "num_bins_indices = [num_bin for num_bin in list(zip(*res_stock1_slope_entropy))[0]]\n",
    "colnames = ['num_bins', 'min_n', 'chi2_pvalue']\n",
    "stock1_slope_chi2 = pd.DataFrame(data=res_stock1_slope_chi2, columns=colnames, index=num_bins_indices).dropna()\n",
    "stock1_slope_chi2.index.name = colnames[0]\n",
    "stock1_slope_chi2 = stock1_slope_chi2.drop(labels=stock1_slope_chi2.index.name, axis=1)"
   ]
  },
  {
   "cell_type": "markdown",
   "id": "04e6000e-10d4-4970-bcb4-b74f6a3e6ef0",
   "metadata": {},
   "source": [
    "### Result: $\\chi^2$ Test\n",
    "\n",
    "The $\\chi^2$ test tests the null hypothesis H0: the distribution of $S1\\gt c$ events is uniform.\n",
    "We provide the best result, i.e., maximum p-value for a sample size of more that 5 events per bin. Remember, we need to consider the sample size due to the sensitivity of the $\\chi^2$ test."
   ]
  },
  {
   "cell_type": "code",
   "execution_count": 29,
   "id": "1f5b0170-0828-40e7-b8de-f8b3d467648a",
   "metadata": {
    "tags": []
   },
   "outputs": [
    {
     "name": "stdout",
     "output_type": "stream",
     "text": [
      "Number of bins: 2\n",
      "There are at least 8 events in a bin.\n",
      "Probablity to see the event pattern given H0 is true: 10.2%\n"
     ]
    }
   ],
   "source": [
    "chi2_res = stock1_slope_chi2[stock1_slope_chi2['min_n']>0]\n",
    "try:\n",
    "    min_chi2_pvalue_idx = chi2_res.idxmax()['chi2_pvalue']\n",
    "    chi2_res = chi2_res.loc[min_chi2_pvalue_idx]\n",
    "\n",
    "    print(\"Number of bins: {}\".format(chi2_res.name))\n",
    "    print(\"There are at least {} events in a bin.\".format(int(chi2_res['min_n'])))\n",
    "    pv = round(chi2_res['chi2_pvalue']*100,1)\n",
    "    print(\"Probablity to see the event pattern given H0 is true: {}%\".format(pv))\n",
    "except:\n",
    "    print(\"No result found.\")"
   ]
  },
  {
   "cell_type": "markdown",
   "id": "88cb0454-81de-44e4-9346-f2432c714f4c",
   "metadata": {},
   "source": [
    "### Poisson Analysis using Bayesian Statistics\n",
    "\n",
    "We estimate $\\lambda$ parameter of a Poisson distribution as the data generating process for the occurrences of days with stock1 slope exceeding a given limit $c$. This approach deviates from our setup for the evaluation of predicatability. Originally, we said, we do not know the data generating process.\n",
    "\n",
    "In this analysis, we follow a _bayesian approach_ in that we want to know the distribution of the $\\lambda$ parameter. Utilizing bayesian data analysis, the Poission distribution is the likelihood, $P(x|\\lambda)$ of the event data $x$, and we are interested in \n",
    "\n",
    "1. posterior distribution $P(\\lambda | x)$\n",
    "1. posterior predictive distribution $P(\\hat{x}|x)$\n"
   ]
  },
  {
   "cell_type": "markdown",
   "id": "5de7b388-df21-45e8-a400-c4c05efbf24d",
   "metadata": {},
   "source": [
    "Let the random variable $X$ be the number of occurances with stock1 slope exceeding $c$ within the binned distribution of all observation days. The number of bins $b$ is a hyperparameter. \n",
    "\n",
    "It is $X\\sim Poisson(\\lambda)$. The unbiased point estimator for $\\hat{\\lambda} = \\frac{1}{b}\\sum_i x_i$, where $x_i$ is the absolute number of occurences of stock1 slope exceeding $c$ in bin $i$."
   ]
  },
  {
   "cell_type": "code",
   "execution_count": 30,
   "id": "64bce5fb-75dd-4c45-bd89-8ad76daaa3a9",
   "metadata": {
    "tags": []
   },
   "outputs": [
    {
     "name": "stdout",
     "output_type": "stream",
     "text": [
      "\n",
      "Events counts n_i for each bin: [7 2 0 0 0 0 0 0 0 4 0 0 0 0 2 1 0 0 0 0 0 0 0 0 0 0 0 2 2 0 0 0 0 1 3 0 0\n",
      " 0 0]\n",
      "MLE point estimator, lambda hat: 0.6153846153846154\n",
      "\n"
     ]
    }
   ],
   "source": [
    "num_bins = best_num_bins\n",
    "bin_edges = _bin_edges(num_bins)\n",
    "x, x_bin_edges = np.histogram(days_back_exceeds_c.values, bins=bin_edges, density=False)\n",
    "print(\"\\nEvents counts n_i for each bin: {}\".format(x))\n",
    "print(\"MLE point estimator, lambda hat: {}\\n\".format(x.mean()))"
   ]
  },
  {
   "cell_type": "markdown",
   "id": "d840eb09-876e-41ac-aece-451548ac5615",
   "metadata": {},
   "source": [
    "#### Bayesian Analysis"
   ]
  },
  {
   "cell_type": "markdown",
   "id": "5b917600-375f-48bf-a1f9-7dc8867655b1",
   "metadata": {},
   "source": [
    "We compute an interval estimate for the mean of binned event occurences. The standard deviation is unknown. The method `bayes_mvs` produces a posterior distribution and returns the mean as well as the $\\alpha$ credibility interval. It utilizes a \"non-informative\" prior that makes no assumptions about the mean or variance. For small sample sizes this prior is a t-distribution, otherwise a normal distribution. See [`bayes_mvs`(src)](https://github.com/scipy/scipy/blob/v1.10.1/scipy/stats/_morestats.py#L45-L141) and [`mvsdist`(src)](https://github.com/scipy/scipy/blob/v1.10.1/scipy/stats/_morestats.py#L144-L216) for details."
   ]
  },
  {
   "cell_type": "code",
   "execution_count": 31,
   "id": "de73d7b9-9b82-4195-9e81-b23cf9e53ec2",
   "metadata": {
    "tags": []
   },
   "outputs": [
    {
     "name": "stdout",
     "output_type": "stream",
     "text": [
      "\n",
      "Average event rate (lambda hat): 0.6153846153846154\n",
      "With a probability of 95.0% is lambda hat in the interval\n",
      "[0.15325249490746035, 1.0775167358617705].\n",
      "\n"
     ]
    }
   ],
   "source": [
    "# Bayesian confidence intervals for the mean (lambda_hat)\n",
    "alpha = 0.95\n",
    "bayes_lambda_hat, bayes_lambda_hat_var, bayes_lambda_hat_std = stats.bayes_mvs(x, alpha=alpha)\n",
    "point_lambda_hat = bayes_lambda_hat[0]\n",
    "ci_lambda_hat = bayes_lambda_hat[1]\n",
    "point_lambda_hat_var = bayes_lambda_hat_var[0]\n",
    "\n",
    "print(\"\\nAverage event rate (lambda hat): {}\".format(point_lambda_hat))\n",
    "print(\"With a probability of {}% is lambda hat in the interval\\n[{}, {}].\".format(alpha*100, ci_lambda_hat[0], ci_lambda_hat[1]))\n",
    "print(\"\")\n",
    "assert point_lambda_hat_var < float('inf'), \"Invalid variance for lambda_hat\""
   ]
  },
  {
   "cell_type": "markdown",
   "id": "45adf007-6b9d-4767-bb36-17644fa09ee1",
   "metadata": {},
   "source": [
    "We can analytically specify the posterior distribution of $\\lambda$, when we assume a $\\Gamma$ distribution for $\\lambda$ as conjugate prior. As a consequence, the posteriori distribution is $\\Gamma$ as well. Following the [table of conjugate priors](https://en.wikipedia.org/wiki/Conjugate_prior#Table_of_conjugate_distributions) from Wikipedia, we define:\n",
    "\n",
    "* prior $P(\\lambda)$ with $\\lambda \\sim \\Gamma(\\alpha, \\beta)$\n",
    "* likelihood $P(x|\\lambda)$ with $x \\sim Poisson(\\lambda)$\n",
    "* posterior $P(\\lambda|x)$ with $\\lambda \\sim \\Gamma(\\alpha\\prime, \\beta\\prime)$\n",
    "* posterior predictive $P(\\hat{x}|x)$ with $\\hat{x} \\sim \\textrm{NB}(\\alpha\\prime, \\beta\\prime)$, where $\\textrm{NB}$ is the [negative binomial](https://en.wikipedia.org/wiki/Negative_binomial_distribution)."
   ]
  },
  {
   "cell_type": "markdown",
   "id": "afe2efcd-d73c-4ced-a189-7b0ed2933e94",
   "metadata": {},
   "source": [
    "#### Prior Distribution $P(\\lambda)$\n",
    "\n",
    "$\\lambda's$ prior distribution is $\\Gamma(\\alpha, \\beta)$."
   ]
  },
  {
   "cell_type": "code",
   "execution_count": 32,
   "id": "5f845956-889f-43c0-a926-b84f381fa973",
   "metadata": {
    "tags": []
   },
   "outputs": [],
   "source": [
    "# \\alpha, \\beta hyper params for prior\n",
    "def prior_hyper_params(mean, var):\n",
    "    beta = mean / var\n",
    "    alpha = mean * beta\n",
    "    return {'a':alpha, 'scale': 1/beta}\n",
    "\n",
    "# we initialize an informative prior, i.e., with previously known mean and var \n",
    "# here: prior's mean and var = bayes_mvs\n",
    "prior_params = prior_hyper_params(point_lambda_hat, point_lambda_hat_var)\n",
    "\n",
    "# we initialize an weakly informative prior, i.e., with previously known mean\n",
    "# here: prior's mean = average rate, var is large\n",
    "#prior_params = prior_hyper_params(point_lambda_hat, point_lambda_hat_var*5)"
   ]
  },
  {
   "cell_type": "code",
   "execution_count": 33,
   "id": "82c24704-1ab4-4b40-ab6a-47de5d337131",
   "metadata": {
    "tags": [
     "render"
    ]
   },
   "outputs": [
    {
     "data": {
      "image/png": "[encoded data removed]",
      "text/plain": [
       "<Figure size 640x480 with 1 Axes>"
      ]
     },
     "metadata": {},
     "output_type": "display_data"
    }
   ],
   "source": [
    "# plot prior distribution function\n",
    "x_plt_gamma = np.linspace(stats.gamma.ppf(0.01, **prior_params), stats.gamma.ppf(0.99, **prior_params), 100)\n",
    "plt.plot(x_plt_gamma, stats.gamma.pdf(x_plt_gamma, **prior_params),'r-', alpha=0.6, label='prior gamma pdf')\n",
    "plt.legend(loc='best', frameon=False)\n",
    "plt.show()"
   ]
  },
  {
   "cell_type": "code",
   "execution_count": 34,
   "id": "158a0a05-d704-4687-a2e9-add347fdcbbd",
   "metadata": {
    "tags": []
   },
   "outputs": [
    {
     "name": "stdout",
     "output_type": "stream",
     "text": [
      "Prior (mean / var): (0.6153846153846154 / 2.1452991452991457)\n"
     ]
    }
   ],
   "source": [
    "prior_stats = stats.gamma.stats(**prior_params, moments='mv')\n",
    "print(\"Prior (mean / var): ({} / {})\".format(prior_stats[0], prior_stats[1]))"
   ]
  },
  {
   "cell_type": "markdown",
   "id": "8f17d960-18d4-4b9d-bf56-520c081cf51b",
   "metadata": {},
   "source": [
    "#### Posterior $P(\\lambda|x)$ \n",
    "\n",
    "The posterior distribution of $\\lambda$ is $\\Gamma(\\alpha\\prime, \\beta\\prime)$ distribution with $\\alpha\\prime = \\alpha + \\sum_{i=1}^{n} x_i$ and $\\beta\\prime = \\beta + n$."
   ]
  },
  {
   "cell_type": "code",
   "execution_count": 35,
   "id": "bcd03fa6-e781-44c1-89e7-50d2e531e9d6",
   "metadata": {
    "tags": []
   },
   "outputs": [],
   "source": [
    "# posterior hyper params\n",
    "def posterior_hyper_params(a, scale):\n",
    "    alpha_prime = float(a + x.sum())\n",
    "    beta_prime = float(1/scale + len(x))\n",
    "    return {'a':alpha_prime, 'scale': 1/beta_prime}\n",
    "\n",
    "posterior_params = posterior_hyper_params(**prior_params)"
   ]
  },
  {
   "cell_type": "code",
   "execution_count": 36,
   "id": "aafe5ce9-c379-4e1d-a094-c444f138043f",
   "metadata": {
    "tags": []
   },
   "outputs": [
    {
     "name": "stdout",
     "output_type": "stream",
     "text": [
      "Posterior probabilities:\n",
      ".. lambda <= 0.3:\t0.1 %\n",
      ".. lambda <= 0.36:\t1.0 %\n",
      ".. lambda <= 0.46:\t10.0 %\n",
      ".. lambda <= 0.61:\t50.0 %\n",
      ".. lambda <= 0.69:\t75.0 %\n",
      ".. lambda <= 0.78:\t90.0 %\n",
      ".. lambda <= 0.94:\t99.0 %\n",
      "\n",
      "Posterior probability:\n",
      "P(0.39500305603131636 <= lambda <= 0.8838379418323971 | x) = 95.0 %\n"
     ]
    }
   ],
   "source": [
    "# example quantiles\n",
    "q_orders = [0.001, 0.01, 0.1, 0.5, 0.75, 0.9, 0.99]\n",
    "q = stats.gamma.ppf(q_orders, **posterior_params)\n",
    "print(\"Posterior probabilities:\")\n",
    "for i in range(0,len(q_orders)):\n",
    "    print(\".. lambda <= {}:\\t{} %\".format(round(q[i],2), 100*q_orders[i]))\n",
    "    \n",
    "print(\"\")\n",
    "ci_lambda_posterior = stats.gamma.interval(0.95, **posterior_params)\n",
    "P_ci_lambda_posterior = stats.gamma.cdf(ci_lambda_posterior[1], **posterior_params)-stats.gamma.cdf(ci_lambda_posterior[0], **posterior_params)\n",
    "print(\"Posterior probability:\")\n",
    "print(\"P({} <= lambda <= {} | x) = {} %\".format(ci_lambda_posterior[0], ci_lambda_posterior[1], round(100*P_ci_lambda_posterior,2)))"
   ]
  },
  {
   "cell_type": "code",
   "execution_count": 37,
   "id": "d2121b06-dc9e-4a32-8d3e-a6fd9c845480",
   "metadata": {
    "tags": [
     "render"
    ]
   },
   "outputs": [
    {
     "data": {
      "image/png": "[encoded data removed]",
      "text/plain": [
       "<Figure size 640x480 with 1 Axes>"
      ]
     },
     "metadata": {},
     "output_type": "display_data"
    }
   ],
   "source": [
    "# plot posterior distribution function\n",
    "x_plt_posterior_gamma = np.linspace(stats.gamma.ppf(0.01, **posterior_params), stats.gamma.ppf(0.99, **posterior_params), 100)\n",
    "plt.plot(x_plt_posterior_gamma, stats.gamma.pdf(x_plt_gamma, **posterior_params),'b-', alpha=0.6, label='posterior gamma pdf')\n",
    "plt.legend(loc='best', frameon=False)\n",
    "plt.show()"
   ]
  },
  {
   "cell_type": "code",
   "execution_count": 38,
   "id": "15c36943-c12c-482e-b532-85b8a0f7786a",
   "metadata": {
    "tags": []
   },
   "outputs": [
    {
     "name": "stdout",
     "output_type": "stream",
     "text": [
      "Posterior (mean / var): (0.6153846153846154 / 0.015663881803218586)\n"
     ]
    }
   ],
   "source": [
    "posterior_stats = stats.gamma.stats(**posterior_params, moments='mv')\n",
    "print(\"Posterior (mean / var): ({} / {})\".format(posterior_stats[0], posterior_stats[1]))"
   ]
  },
  {
   "cell_type": "markdown",
   "id": "ba113ecf-c237-4b8d-b3a1-024ac2eab90f",
   "metadata": {},
   "source": [
    "#### Highest Density Interval (HDI) of the Posterior\n",
    "\n",
    "The posterior distribution knows a `.interval` method. The docs describe it as \n",
    "> Confidence interval with equal areas around the median.\n",
    "\n",
    "The HDI is the shortest interval that contains, for instance $\\alpha=95\\$%, of the probability. This is not necessarily the equal area around the median.\n",
    "\n",
    "Let $\\theta_1, \\theta_2$ the two limits of the HDI, with $\\theta_1 \\lt \\theta_2$. For the HDI  the following constraints hold:\n",
    "\n",
    "$$\n",
    "F(\\theta_2 | X) - F(\\theta_1 | X) = \\alpha\n",
    "\\\\\n",
    "f(\\theta_1 | X) = f(\\theta_2 | X)\n",
    "$$\n",
    "\n",
    "This is an optimization problem."
   ]
  },
  {
   "cell_type": "code",
   "execution_count": 39,
   "id": "39e2fefe-8e1f-47ac-bb9c-f00aecf3c0b4",
   "metadata": {
    "tags": []
   },
   "outputs": [],
   "source": [
    "# Source: \n",
    "# https://jakevdp.github.io/blog/2014/06/12/frequentism-and-bayesianism-3-confidence-credibility/#3.-Frequentist-approach-#2:-Exact-Sampling-Distribution\n",
    "def HDI(alpha, distr, params):\n",
    "\n",
    "    def f(theta):\n",
    "        return distr.pdf(theta, **params)\n",
    "\n",
    "    def F(theta):\n",
    "        return distr.cdf(theta, **params)\n",
    "    \n",
    "    \n",
    "    def eqns(CI):\n",
    "        \"\"\"Equations which should be equal to zero\"\"\"\n",
    "        theta1, theta2 = CI\n",
    "        return (F(theta2) - F(theta1) - alpha,\n",
    "                f(theta2) - f(theta1))\n",
    "    \n",
    "    guess = distr.ppf([0.01,0.99], **params)\n",
    "    result = optimize.root(eqns, guess)\n",
    "    return result"
   ]
  },
  {
   "cell_type": "code",
   "execution_count": 40,
   "id": "3b098f3a-bcd5-41fb-9785-b1172a10f15b",
   "metadata": {
    "tags": []
   },
   "outputs": [
    {
     "name": "stdout",
     "output_type": "stream",
     "text": [
      "\n",
      "95.0% HDI of posterior distribution for lambda: [0.38054376 0.8648511 ]\n",
      "\n"
     ]
    }
   ],
   "source": [
    "hdi_res = HDI(alpha, stats.gamma, posterior_params)\n",
    "if not hdi_res.success:\n",
    "    print(\"warning: CI result did not converge!\")\n",
    "else:\n",
    "    hdi = hdi_res.x\n",
    "    print(\"\")\n",
    "    print(\"{}% HDI of posterior distribution for lambda: {}\\n\".format(alpha*100, hdi))"
   ]
  },
  {
   "cell_type": "markdown",
   "id": "1bf557c1-e006-499f-ab10-66e6db7193f6",
   "metadata": {},
   "source": [
    "#### Posterior Predictive $P(\\hat{x}|x)$ "
   ]
  },
  {
   "cell_type": "code",
   "execution_count": 41,
   "id": "36fae8a4-b66b-4681-a999-01db3f90a54b",
   "metadata": {
    "tags": []
   },
   "outputs": [
    {
     "data": {
      "text/plain": [
       "(24.176524670548574, 0.9751780063291139)"
      ]
     },
     "execution_count": 41,
     "metadata": {},
     "output_type": "execute_result"
    }
   ],
   "source": [
    "# neg. binomial params\n",
    "alpha_prime = posterior_params['a']\n",
    "beta_prime = 1/posterior_params['scale']\n",
    "\n",
    "nb_n = alpha_prime\n",
    "nb_p = beta_prime / (1+beta_prime)\n",
    "\n",
    "nb_n, nb_p"
   ]
  },
  {
   "cell_type": "code",
   "execution_count": 42,
   "id": "1870043e-415d-490b-ad71-e44ef76ea2b9",
   "metadata": {
    "tags": []
   },
   "outputs": [],
   "source": [
    "# P(x^ <= 0 | x)\n",
    "# The probability to observe no event of stock1 exceeding c \n",
    "# within the next bin of width b\n",
    "posterior_predictive = stats.nbinom.cdf(0, nb_n, nb_p)"
   ]
  },
  {
   "cell_type": "code",
   "execution_count": 43,
   "id": "ffc34399-8750-43b3-aa4e-fb74b2a69569",
   "metadata": {
    "tags": []
   },
   "outputs": [
    {
     "name": "stdout",
     "output_type": "stream",
     "text": [
      "Probability to observe NO / at least ONE event\n",
      ".. of MUX.DE slope exceeding 0.294, \n",
      ".. within the next 6.21 days,\n",
      "= 54.46% / 45.54%\n"
     ]
    }
   ],
   "source": [
    "print(\"Probability to observe NO / at least ONE event\")\n",
    "print(\".. of {} slope exceeding {}, \".format(stock1_name, round(c,3)))\n",
    "print(\".. within the next {} days,\".format(round(0-x_bin_edges[-2],2)))\n",
    "print(\"= {}% / {}%\".format(round(posterior_predictive*100,2), round(100*(1-posterior_predictive),2)))"
   ]
  },
  {
   "cell_type": "markdown",
   "id": "f5594b4e-a84f-4ebc-8ead-29c67db31365",
   "metadata": {},
   "source": [
    "#### Bayesian Analysis looping through `num_bins`"
   ]
  },
  {
   "cell_type": "code",
   "execution_count": 85,
   "id": "c7612a84-a578-44b7-b4dc-add4b3e48515",
   "metadata": {
    "tags": []
   },
   "outputs": [],
   "source": [
    "# store bayes results for different num of bins\n",
    "res_stock1_slope_bayes = []\n",
    "alpha = 0.95\n",
    "all_bins = range(2, -days_back_exceeds_c.iloc[0]+1)\n",
    "\n",
    "# loop through all bin numbers\n",
    "for num_bins in all_bins:\n",
    "    bin_edges = _bin_edges(num_bins)\n",
    "    x, x_bin_edges = np.histogram(days_back_exceeds_c.values, bins=bin_edges, density=False)\n",
    "    bin_width = round(0-x_bin_edges[-2],2)\n",
    "\n",
    "    # Bayesian confidence intervals for the mean and var (lambda_hat)\n",
    "    # using an uninformed prior\n",
    "    bayes_lambda_hat, bayes_lambda_hat_var, bayes_lambda_hat_std = stats.bayes_mvs(x, alpha=alpha)\n",
    "    point_lambda_hat = bayes_lambda_hat[0]\n",
    "    point_lambda_hat_var = bayes_lambda_hat_var[0]\n",
    "\n",
    "    try:\n",
    "        assert point_lambda_hat_var < float('inf'), \"Invalid variance for lambda_hat\"\n",
    "    except AssertionError:\n",
    "        continue\n",
    "        \n",
    "    # we initialize an informative prior, i.e., with previously known mean and var \n",
    "    # here: prior's mean and var = bayes_mvs\n",
    "    prior_params = prior_hyper_params(point_lambda_hat, point_lambda_hat_var)\n",
    "\n",
    "    # lambda's posterior distribution \n",
    "    posterior_params = posterior_hyper_params(**prior_params)\n",
    "    posterior_stats = stats.gamma.stats(**posterior_params, moments='mv')\n",
    "    posterior_lambda_mean = float(posterior_stats[0])\n",
    "    posterior_lambda_var = float(posterior_stats[1])\n",
    "\n",
    "    # lambda's HDI \n",
    "    hdi_res = HDI(alpha, stats.gamma, posterior_params)\n",
    "    if hdi_res.success:\n",
    "        lambda_hdi = hdi_res.x\n",
    "    else:\n",
    "        lambda_hdi = float(\"NaN\")\n",
    "\n",
    "    # compute posterior predictive P(x^ <= 0 | x)\n",
    "    # i.e. the probability to observe no event of stock1 exceeding c \n",
    "    # within the next bin of width b\n",
    "\n",
    "    # neg. binomial params\n",
    "    alpha_prime = posterior_params['a']\n",
    "    beta_prime = 1/posterior_params['scale']\n",
    "    nb_n = alpha_prime\n",
    "    nb_p = beta_prime / (1+beta_prime)\n",
    "\n",
    "    # posterior predictive P(x^ <= 0 | x)\n",
    "    posterior_predictive = stats.nbinom.cdf(0, nb_n, nb_p)\n",
    "    # P(x^ <= 0 | x)\n",
    "    P_x_hat_leq0 = posterior_predictive\n",
    "    # P(x^ > 0 | x)\n",
    "    P_x_hat_gt0 = 1-posterior_predictive\n",
    "    \n",
    "    # add to result list\n",
    "    res_stock1_slope_bayes.append((num_bins, bin_width, posterior_lambda_mean, posterior_lambda_var, lambda_hdi, P_x_hat_leq0, P_x_hat_gt0))"
   ]
  },
  {
   "cell_type": "code",
   "execution_count": 88,
   "id": "a9dc3119-ffe0-4d84-9e15-4b8bac04f583",
   "metadata": {
    "tags": []
   },
   "outputs": [],
   "source": [
    "# compile dataframe from result list\n",
    "num_bins_indices = [num_bin for num_bin in list(zip(*res_stock1_slope_bayes))[0]]\n",
    "colnames = ['num_bins', 'bin_width', 'lambda_mean', 'lambda_var', 'lambda_hdi', 'P_x_hat_leq0', 'P_x_hat_gt0']\n",
    "stock1_slope_bayes = pd.DataFrame(data=res_stock1_slope_bayes, columns=colnames, index=num_bins_indices).dropna()\n",
    "stock1_slope_bayes.index.name = colnames[0]\n",
    "stock1_slope_bayes = stock1_slope_bayes.drop(labels=stock1_slope_bayes.index.name, axis=1)"
   ]
  },
  {
   "cell_type": "markdown",
   "id": "5a870c5b-fe3b-4ea5-bb9c-a68aa6949485",
   "metadata": {},
   "source": [
    "### Compile and Store Final Result"
   ]
  },
  {
   "cell_type": "code",
   "execution_count": 91,
   "id": "96e7197b-d2ac-4a19-aefa-0309546e3fab",
   "metadata": {
    "tags": []
   },
   "outputs": [],
   "source": [
    "# compile final result\n",
    "stock1_slope_predictability = ()\n",
    "stock1_slope_predictability = stock1_slope_entropy.join(stock1_slope_chi2, how='inner')\n",
    "stock1_slope_predictability = stock1_slope_predictability.join(stock1_slope_bayes, how='left')"
   ]
  },
  {
   "cell_type": "code",
   "execution_count": 92,
   "id": "26304f19-8325-4d3b-a2b3-b67f0c4a5cfc",
   "metadata": {
    "tags": []
   },
   "outputs": [
    {
     "data": {
      "text/html": [
       "<div>\n",
       "<style scoped>\n",
       "    .dataframe tbody tr th:only-of-type {\n",
       "        vertical-align: middle;\n",
       "    }\n",
       "\n",
       "    .dataframe tbody tr th {\n",
       "        vertical-align: top;\n",
       "    }\n",
       "\n",
       "    .dataframe thead th {\n",
       "        text-align: right;\n",
       "    }\n",
       "</style>\n",
       "<table border=\"1\" class=\"dataframe\">\n",
       "  <thead>\n",
       "    <tr style=\"text-align: right;\">\n",
       "      <th></th>\n",
       "      <th>dist</th>\n",
       "      <th>Hbits</th>\n",
       "      <th>Sbits</th>\n",
       "      <th>Bbits</th>\n",
       "      <th>min_n</th>\n",
       "      <th>chi2_pvalue</th>\n",
       "      <th>bin_width</th>\n",
       "      <th>lambda_mean</th>\n",
       "      <th>lambda_var</th>\n",
       "      <th>lambda_hdi</th>\n",
       "      <th>P_x_hat_leq0</th>\n",
       "      <th>P_x_hat_gt0</th>\n",
       "    </tr>\n",
       "    <tr>\n",
       "      <th>num_bins</th>\n",
       "      <th></th>\n",
       "      <th></th>\n",
       "      <th></th>\n",
       "      <th></th>\n",
       "      <th></th>\n",
       "      <th></th>\n",
       "      <th></th>\n",
       "      <th></th>\n",
       "      <th></th>\n",
       "      <th></th>\n",
       "      <th></th>\n",
       "      <th></th>\n",
       "    </tr>\n",
       "  </thead>\n",
       "  <tbody>\n",
       "    <tr>\n",
       "      <th>2</th>\n",
       "      <td>5.126919</td>\n",
       "      <td>0.918296</td>\n",
       "      <td>4.584963</td>\n",
       "      <td>1.000000</td>\n",
       "      <td>8</td>\n",
       "      <td>0.102470</td>\n",
       "      <td>NaN</td>\n",
       "      <td>NaN</td>\n",
       "      <td>NaN</td>\n",
       "      <td>NaN</td>\n",
       "      <td>NaN</td>\n",
       "      <td>NaN</td>\n",
       "    </tr>\n",
       "    <tr>\n",
       "      <th>3</th>\n",
       "      <td>4.386342</td>\n",
       "      <td>1.382437</td>\n",
       "      <td>4.584963</td>\n",
       "      <td>1.584963</td>\n",
       "      <td>3</td>\n",
       "      <td>0.043937</td>\n",
       "      <td>NaN</td>\n",
       "      <td>NaN</td>\n",
       "      <td>NaN</td>\n",
       "      <td>NaN</td>\n",
       "      <td>NaN</td>\n",
       "      <td>NaN</td>\n",
       "    </tr>\n",
       "    <tr>\n",
       "      <th>4</th>\n",
       "      <td>3.859184</td>\n",
       "      <td>1.715771</td>\n",
       "      <td>4.584963</td>\n",
       "      <td>2.000000</td>\n",
       "      <td>3</td>\n",
       "      <td>0.011726</td>\n",
       "      <td>60.50</td>\n",
       "      <td>6.0</td>\n",
       "      <td>1.466667</td>\n",
       "      <td>[3.7265569565423435, 8.413847703440517]</td>\n",
       "      <td>0.004664</td>\n",
       "      <td>0.995336</td>\n",
       "    </tr>\n",
       "    <tr>\n",
       "      <th>5</th>\n",
       "      <td>3.498071</td>\n",
       "      <td>1.910762</td>\n",
       "      <td>4.584963</td>\n",
       "      <td>2.321928</td>\n",
       "      <td>0</td>\n",
       "      <td>0.044856</td>\n",
       "      <td>48.40</td>\n",
       "      <td>4.8</td>\n",
       "      <td>0.922167</td>\n",
       "      <td>[2.9963678438963943, 6.7139346404520746]</td>\n",
       "      <td>0.012393</td>\n",
       "      <td>0.987607</td>\n",
       "    </tr>\n",
       "    <tr>\n",
       "      <th>6</th>\n",
       "      <td>3.116424</td>\n",
       "      <td>2.198120</td>\n",
       "      <td>4.584963</td>\n",
       "      <td>2.584963</td>\n",
       "      <td>0</td>\n",
       "      <td>0.062246</td>\n",
       "      <td>40.33</td>\n",
       "      <td>4.0</td>\n",
       "      <td>0.636364</td>\n",
       "      <td>[2.5014370776572328, 5.589889499403643]</td>\n",
       "      <td>0.024429</td>\n",
       "      <td>0.975571</td>\n",
       "    </tr>\n",
       "  </tbody>\n",
       "</table>\n",
       "</div>"
      ],
      "text/plain": [
       "              dist     Hbits     Sbits     Bbits  min_n  chi2_pvalue  \\\n",
       "num_bins                                                               \n",
       "2         5.126919  0.918296  4.584963  1.000000      8     0.102470   \n",
       "3         4.386342  1.382437  4.584963  1.584963      3     0.043937   \n",
       "4         3.859184  1.715771  4.584963  2.000000      3     0.011726   \n",
       "5         3.498071  1.910762  4.584963  2.321928      0     0.044856   \n",
       "6         3.116424  2.198120  4.584963  2.584963      0     0.062246   \n",
       "\n",
       "          bin_width  lambda_mean  lambda_var  \\\n",
       "num_bins                                       \n",
       "2               NaN          NaN         NaN   \n",
       "3               NaN          NaN         NaN   \n",
       "4             60.50          6.0    1.466667   \n",
       "5             48.40          4.8    0.922167   \n",
       "6             40.33          4.0    0.636364   \n",
       "\n",
       "                                        lambda_hdi  P_x_hat_leq0  P_x_hat_gt0  \n",
       "num_bins                                                                       \n",
       "2                                              NaN           NaN          NaN  \n",
       "3                                              NaN           NaN          NaN  \n",
       "4          [3.7265569565423435, 8.413847703440517]      0.004664     0.995336  \n",
       "5         [2.9963678438963943, 6.7139346404520746]      0.012393     0.987607  \n",
       "6          [2.5014370776572328, 5.589889499403643]      0.024429     0.975571  "
      ]
     },
     "execution_count": 92,
     "metadata": {},
     "output_type": "execute_result"
    }
   ],
   "source": [
    "stock1_slope_predictability.head()"
   ]
  },
  {
   "cell_type": "code",
   "execution_count": 116,
   "id": "1cce0a58-b223-4d63-b12e-6958a47c62d6",
   "metadata": {
    "tags": []
   },
   "outputs": [
    {
     "name": "stdout",
     "output_type": "stream",
     "text": [
      "Best number of bins (entropy based): 39\n",
      "\n"
     ]
    },
    {
     "data": {
      "text/plain": [
       "dist                                               1.82\n",
       "Hbits                                          2.901364\n",
       "Sbits                                          4.584963\n",
       "Bbits                                          5.285402\n",
       "min_n                                                 0\n",
       "chi2_pvalue                                         0.0\n",
       "bin_width                                          6.21\n",
       "lambda_mean                                    0.615385\n",
       "lambda_var                                     0.015664\n",
       "lambda_hdi      [0.380543761068307, 0.8648510976490941]\n",
       "P_x_hat_leq0                                   0.544611\n",
       "P_x_hat_gt0                                    0.455389\n",
       "Name: 39, dtype: object"
      ]
     },
     "execution_count": 116,
     "metadata": {},
     "output_type": "execute_result"
    }
   ],
   "source": [
    "# entropy-based best uniform binning using min distance\n",
    "min_dist_idx = stock1_slope_predictability['dist'].idxmin()\n",
    "best_bin_num_entropy = min_dist_idx\n",
    "print(\"Best number of bins (entropy based): {}\\n\".format(best_bin_num_entropy))\n",
    "stock1_slope_predictability.loc[best_bin_num_entropy]"
   ]
  },
  {
   "cell_type": "code",
   "execution_count": 118,
   "id": "1eeb1dc2-a157-470f-9f53-c996568e6e05",
   "metadata": {
    "tags": []
   },
   "outputs": [
    {
     "name": "stdout",
     "output_type": "stream",
     "text": [
      "Best number of bins (chi2 for uniformity): 8\n",
      "\n",
      "dist            5.126919\n",
      "Hbits           0.918296\n",
      "Sbits           4.584963\n",
      "Bbits                1.0\n",
      "min_n                  8\n",
      "chi2_pvalue      0.10247\n",
      "bin_width            NaN\n",
      "lambda_mean          NaN\n",
      "lambda_var           NaN\n",
      "lambda_hdi           NaN\n",
      "P_x_hat_leq0         NaN\n",
      "P_x_hat_gt0          NaN\n",
      "Name: 2, dtype: object\n"
     ]
    }
   ],
   "source": [
    "# chi2 based best uniform binning\n",
    "try:\n",
    "    min_chi2_pvalue = stock1_slope_predictability[stock1_slope_predictability['min_n']>5]['chi2_pvalue'].idxmin()\n",
    "    best_bin_num_chi2 = stock1_slope_predictability.loc[min_chi2_pvalue]['min_n']\n",
    "    print(\"Best number of bins (chi2 for uniformity): {}\\n\".format(best_bin_num_chi2))\n",
    "    print(stock1_slope_predictability.loc[min_chi2_pvalue])\n",
    "except Exception:\n",
    "    print(\"No best chi2-based binning found.\")\n",
    "    best_bin_num_chi2 = 0"
   ]
  },
  {
   "cell_type": "code",
   "execution_count": 142,
   "id": "bf399590-d6fb-414b-969d-6a1780f20300",
   "metadata": {
    "tags": []
   },
   "outputs": [
    {
     "name": "stdout",
     "output_type": "stream",
     "text": [
      "=== Approach: best num_bin chi2 uniformity ===\n",
      "Probability to observe NO / at least ONE event\n",
      ".. of MUX.DE slope exceeding 0.294, \n",
      ".. within the next 30.25 days,\n",
      "= 5.89% / 94.11%\n",
      "\n",
      "=== Approach: next 14 days ===\n",
      "Probability to observe NO / at least ONE event\n",
      ".. of MUX.DE slope exceeding 0.294, \n",
      ".. within the next 13.44 days,\n",
      "= 27.31% / 72.69%\n",
      "\n",
      "=== Approach: best num_bin entropy-based ===\n",
      "Probability to observe NO / at least ONE event\n",
      ".. of MUX.DE slope exceeding 0.294, \n",
      ".. within the next 6.21 days,\n",
      "= 54.46% / 45.54%\n",
      "\n"
     ]
    }
   ],
   "source": [
    "# Bayesian analysis for best num bins of entropy, chi2 and about the next 14 days \n",
    "next_days = 14\n",
    "next_days_idx = stock1_slope_predictability[stock1_slope_predictability['bin_width'] <= next_days]['bin_width'].idxmax()\n",
    "\n",
    "num_bins_idx = [(best_bin_num_entropy, 'best num_bin entropy-based'), (best_bin_num_chi2, 'best num_bin chi2 uniformity'), (next_days_idx, 'next {} days'.format(next_days))]\n",
    "num_bins_idx.sort()\n",
    "\n",
    "for num_bins,approach in num_bins_idx:\n",
    "    bin_width = stock1_slope_predictability.loc[num_bins]['bin_width']\n",
    "    P_x_hat_leq0 = stock1_slope_predictability.loc[num_bins]['P_x_hat_leq0']\n",
    "    P_x_hat_gt0 = stock1_slope_predictability.loc[num_bins]['P_x_hat_gt0']\n",
    "\n",
    "    print(\"=== Approach: {} ===\".format(approach))\n",
    "    print(\"Probability to observe NO / at least ONE event\")\n",
    "    print(\".. of {} slope exceeding {}, \".format(stock1_name, round(c,3)))\n",
    "    print(\".. within the next {} days,\".format(bin_width))\n",
    "    print(\"= {}% / {}%\".format(round(P_x_hat_leq0*100,2), round(100*P_x_hat_gt0,2)))\n",
    "    print(\"\")"
   ]
  },
  {
   "cell_type": "code",
   "execution_count": null,
   "id": "f837ce18-6231-4654-86fb-47ecf049a847",
   "metadata": {},
   "outputs": [],
   "source": []
  }
 ],
 "metadata": {
  "kernelspec": {
   "display_name": "Python 3 (ipykernel)",
   "language": "python",
   "name": "python3"
  },
  "language_info": {
   "codemirror_mode": {
    "name": "ipython",
    "version": 3
   },
   "file_extension": ".py",
   "mimetype": "text/x-python",
   "name": "python",
   "nbconvert_exporter": "python",
   "pygments_lexer": "ipython3",
   "version": "3.10.9"
  }
 },
 "nbformat": 4,
 "nbformat_minor": 5
}
