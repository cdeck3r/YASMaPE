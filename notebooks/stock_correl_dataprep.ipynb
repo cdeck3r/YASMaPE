{
 "cells": [
  {
   "cell_type": "markdown",
   "id": "ca09fec9-07cb-4fda-ab65-bce0793d6026",
   "metadata": {},
   "source": [
    "# Stock Correlation\n",
    "\n",
    "We analyse an often heard hypothesis of stock correlations: There are stocks which follow in their trends one after an other within a short time window. If such correlations are predictable, we can exploit them for buy/sell signals. \n",
    "\n",
    "Our analysis looks for such correlations and tests whether they follow a predictable pattern."
   ]
  },
  {
   "cell_type": "markdown",
   "id": "abf5ac9f-5f96-45ab-8315-bac6471a3d63",
   "metadata": {},
   "source": [
    "## Data Preparation (Naive Approach)\n",
    "\n",
    "We are performing a timeseries analysis. A common approach is test for stationarity and if the series is not stationary, make it stationary using an ARIMA model for instance. In the naive approach, we ignore ARIMA modeling and just shoot at the data with simple instruments, such as linear regression analysis.\n",
    "\n",
    "\n",
    "This notbook consumes `.csv` files from yahoo finanance and creates a sliding windows of varying size defining a number of samples in order to compute\n",
    "\n",
    "* the slope using OLS regression within each window\n",
    "* test for significance incl. p value, $R^2$ value for the OLS regression\n",
    "* the return if one would buy when the window starts and sell on the window's last day\n",
    "\n",
    "As a result, there is for each date and window length a vector of KPIs about the stock's behavior within the window at this date.\n",
    "\n",
    "Finally, the data is stored as a `.parquet` file with the same filename."
   ]
  },
  {
   "cell_type": "markdown",
   "id": "875315e9-9895-4553-a694-c7400848eca1",
   "metadata": {},
   "source": [
    "### Parameters"
   ]
  },
  {
   "cell_type": "code",
   "execution_count": 1,
   "id": "f78ca997-1ac6-40f7-9465-3b434f094b29",
   "metadata": {
    "tags": [
     "parameters"
    ]
   },
   "outputs": [],
   "source": [
    "input_csv_file = './MUX.DE.csv'"
   ]
  },
  {
   "cell_type": "code",
   "execution_count": 2,
   "id": "dd0c786a-b1c9-4345-a596-5d0cd10bd91b",
   "metadata": {},
   "outputs": [],
   "source": [
    "import os\n",
    "output_file = os.path.splitext(input_csv_file)[0] + '.parquet'\n",
    "\n",
    "# different window lengths = number of samples to compute the slopes within\n",
    "win_lengths = range(5,30)"
   ]
  },
  {
   "cell_type": "markdown",
   "id": "27cdca2b-8d4d-4d7a-8e8b-363a0e69f657",
   "metadata": {},
   "source": [
    "### Imports"
   ]
  },
  {
   "cell_type": "code",
   "execution_count": 3,
   "id": "ab83af4a-adfd-44f1-8d17-273215ece279",
   "metadata": {},
   "outputs": [],
   "source": [
    "# libs we need\n",
    "import pandas as pd\n",
    "import statsmodels.api as sm\n",
    "import numpy as np\n",
    "import matplotlib.pyplot as plt\n",
    "\n",
    "# date calculations\n",
    "from datetime import datetime\n",
    "from datetime import timedelta"
   ]
  },
  {
   "cell_type": "markdown",
   "id": "027089aa-bcb2-42f4-b17d-6e253dcf6258",
   "metadata": {},
   "source": [
    "### Helper functions"
   ]
  },
  {
   "cell_type": "code",
   "execution_count": 4,
   "id": "9ce79099-cc3c-475b-b166-5d1008f739ac",
   "metadata": {},
   "outputs": [],
   "source": [
    "# computes the return by integer row num given in start_int_idx \n",
    "def stock_return(stock, start_int_idx, length, price='close'):\n",
    "    end_int_idx = start_int_idx + length\n",
    "    buy_price = stock.iloc[start_int_idx][price]\n",
    "    sell_price = stock.iloc[end_int_idx][price]\n",
    "    ret_price = sell_price - buy_price\n",
    "    ret = ret_price / buy_price \n",
    "    return ret\n",
    "\n",
    "# computes return by index given in start_idx\n",
    "def stock_return_idx(stock, start_idx, length, price='close'):\n",
    "    start_int_idx = stock.index.get_loc(start_idx)    \n",
    "    return stock_return(stock, start_int_idx, length, price)\n"
   ]
  },
  {
   "cell_type": "code",
   "execution_count": 5,
   "id": "ac5dbcb8-764f-4b87-9077-80c02803c648",
   "metadata": {},
   "outputs": [],
   "source": [
    "# True, if date in tuple t <= last_date\n",
    "def tuple_lessequal_than_last_date(t, last_date):\n",
    "    tuple_date = datetime.strptime(t[0], '%Y-%m-%d').date()\n",
    "    tuple_win_length = int(t[1])\n",
    "    return (tuple_date + timedelta(days=tuple_win_length)) <= last_date\n",
    "\n",
    "# True, if date in tuple date + length < len(stock)\n",
    "def tuple_fits_in_stock(stock, t):\n",
    "    tuple_date = t[0]\n",
    "    tuple_win_length = int(t[1])\n",
    "    start_int_idx = stock.index.get_loc(tuple_date)\n",
    "    end_int_idx = start_int_idx + tuple_win_length\n",
    "    return end_int_idx < len(stock)"
   ]
  },
  {
   "cell_type": "code",
   "execution_count": 6,
   "id": "f9130265-fa02-4b5f-9717-7202f25d1c8d",
   "metadata": {},
   "outputs": [],
   "source": [
    "def stock_ols(stock, idx, alpha=0.05, price='close'):\n",
    "    date_idx, win_length = idx\n",
    "    start_int_idx = stock.index.get_loc(date_idx)\n",
    "    end_int_idx = start_int_idx + win_length\n",
    "\n",
    "    Y = stock.iloc[start_int_idx:end_int_idx+1][price].to_numpy()\n",
    "    X = np.arange(win_length+1)\n",
    "    X = sm.add_constant(X)\n",
    "\n",
    "    model = sm.OLS(Y,X)\n",
    "    res = model.fit()\n",
    "\n",
    "    # retrieve some values\n",
    "    rsq = res.rsquared\n",
    "    slope = res.params[1]\n",
    "    pval = res.pvalues[1]\n",
    "    H0_rejected = True if pval < alpha else False\n",
    "\n",
    "    return [slope, rsq, pval, H0_rejected]\n",
    "              \n",
    "# computes the stock kpis and returns them as list\n",
    "# idx is a tuple of (date, win_length)\n",
    "def stock_kpi(stock, idx, price='close'):\n",
    "    slope, rsq, pval, H0_rejected = stock_ols(stock, idx)\n",
    "    date_idx, win_length = idx\n",
    "    ret = stock_return_idx(stock, date_idx, win_length)\n",
    "\n",
    "    return [slope, rsq, ret, pval, H0_rejected]"
   ]
  },
  {
   "cell_type": "markdown",
   "id": "d5827d22-36a3-4d07-a7f0-22ed16207881",
   "metadata": {},
   "source": [
    "### Import Data"
   ]
  },
  {
   "cell_type": "code",
   "execution_count": 7,
   "id": "62ce8794-92d5-47d8-8aaf-5b8e49bc423e",
   "metadata": {},
   "outputs": [],
   "source": [
    "# Path to data is in parameter 'input_csv_file'\n",
    "\n",
    "# import data\n",
    "colnames = ['date', 'open', 'high', 'low', 'close', 'adj_close', 'volume']\n",
    "stock = pd.read_csv(input_csv_file, delimiter=',', header=0, names=colnames, decimal='.')"
   ]
  },
  {
   "cell_type": "code",
   "execution_count": 8,
   "id": "b94191cd-00bf-4d8e-bb7f-5e2a044dea07",
   "metadata": {},
   "outputs": [
    {
     "data": {
      "text/html": [
       "<div>\n",
       "<style scoped>\n",
       "    .dataframe tbody tr th:only-of-type {\n",
       "        vertical-align: middle;\n",
       "    }\n",
       "\n",
       "    .dataframe tbody tr th {\n",
       "        vertical-align: top;\n",
       "    }\n",
       "\n",
       "    .dataframe thead th {\n",
       "        text-align: right;\n",
       "    }\n",
       "</style>\n",
       "<table border=\"1\" class=\"dataframe\">\n",
       "  <thead>\n",
       "    <tr style=\"text-align: right;\">\n",
       "      <th></th>\n",
       "      <th>date</th>\n",
       "      <th>open</th>\n",
       "      <th>high</th>\n",
       "      <th>low</th>\n",
       "      <th>close</th>\n",
       "      <th>adj_close</th>\n",
       "      <th>volume</th>\n",
       "    </tr>\n",
       "  </thead>\n",
       "  <tbody>\n",
       "    <tr>\n",
       "      <th>0</th>\n",
       "      <td>2022-08-12</td>\n",
       "      <td>18.559999</td>\n",
       "      <td>19.360001</td>\n",
       "      <td>18.559999</td>\n",
       "      <td>19.260000</td>\n",
       "      <td>19.260000</td>\n",
       "      <td>11615</td>\n",
       "    </tr>\n",
       "    <tr>\n",
       "      <th>1</th>\n",
       "      <td>2022-08-15</td>\n",
       "      <td>19.260000</td>\n",
       "      <td>19.260000</td>\n",
       "      <td>18.660000</td>\n",
       "      <td>18.660000</td>\n",
       "      <td>18.660000</td>\n",
       "      <td>8190</td>\n",
       "    </tr>\n",
       "    <tr>\n",
       "      <th>2</th>\n",
       "      <td>2022-08-16</td>\n",
       "      <td>18.680000</td>\n",
       "      <td>18.879999</td>\n",
       "      <td>18.400000</td>\n",
       "      <td>18.459999</td>\n",
       "      <td>18.459999</td>\n",
       "      <td>16154</td>\n",
       "    </tr>\n",
       "    <tr>\n",
       "      <th>3</th>\n",
       "      <td>2022-08-17</td>\n",
       "      <td>18.600000</td>\n",
       "      <td>18.639999</td>\n",
       "      <td>17.840000</td>\n",
       "      <td>17.920000</td>\n",
       "      <td>17.920000</td>\n",
       "      <td>12023</td>\n",
       "    </tr>\n",
       "    <tr>\n",
       "      <th>4</th>\n",
       "      <td>2022-08-18</td>\n",
       "      <td>18.059999</td>\n",
       "      <td>18.059999</td>\n",
       "      <td>17.500000</td>\n",
       "      <td>17.660000</td>\n",
       "      <td>17.660000</td>\n",
       "      <td>10379</td>\n",
       "    </tr>\n",
       "  </tbody>\n",
       "</table>\n",
       "</div>"
      ],
      "text/plain": [
       "         date       open       high        low      close  adj_close  volume\n",
       "0  2022-08-12  18.559999  19.360001  18.559999  19.260000  19.260000   11615\n",
       "1  2022-08-15  19.260000  19.260000  18.660000  18.660000  18.660000    8190\n",
       "2  2022-08-16  18.680000  18.879999  18.400000  18.459999  18.459999   16154\n",
       "3  2022-08-17  18.600000  18.639999  17.840000  17.920000  17.920000   12023\n",
       "4  2022-08-18  18.059999  18.059999  17.500000  17.660000  17.660000   10379"
      ]
     },
     "execution_count": 8,
     "metadata": {},
     "output_type": "execute_result"
    }
   ],
   "source": [
    "stock.head()"
   ]
  },
  {
   "cell_type": "code",
   "execution_count": 9,
   "id": "8f31827a-ec0d-480b-b4f3-555205d004e3",
   "metadata": {},
   "outputs": [],
   "source": [
    "stock.set_index('date', inplace=True)\n",
    "stock.sort_index(ascending=True, inplace=True)"
   ]
  },
  {
   "cell_type": "code",
   "execution_count": 10,
   "id": "91e4ad3e-4754-466b-a1e5-ab560afdc6aa",
   "metadata": {},
   "outputs": [],
   "source": [
    "#\n",
    "# Some testing\n",
    "#\n",
    "import random\n",
    "wlen = 10\n",
    "date_idx = random.choice(stock.index[:-1-wlen])\n",
    "date_int_idx = stock.index.get_loc(date_idx)\n",
    "\n",
    "# assert that both functions return the same\n",
    "assert stock_return_idx(stock, date_idx, wlen) == stock_return(stock, date_int_idx, wlen)"
   ]
  },
  {
   "cell_type": "markdown",
   "id": "9402177a-7c7d-4b43-8497-392a4c182bab",
   "metadata": {},
   "source": [
    "### Compile new Dataframe with Stock KPIs\n",
    "\n",
    "For each tuple of date and window length compute the KPIs \n",
    "\n",
    "* slope\n",
    "* $R^2$\n",
    "* stock return\n",
    "* p value\n",
    "* H0 (slope == 0) rejected \n",
    "\n",
    "... and add them to a new dataframe."
   ]
  },
  {
   "cell_type": "code",
   "execution_count": 11,
   "id": "38a25a61-d855-4ebd-8fcd-ff5826c24e1e",
   "metadata": {},
   "outputs": [],
   "source": [
    "# Compute new multiindex from cartesian product of date x win_lengts\n",
    "date_array = stock.index.to_numpy()\n",
    "w_len_array = np.array(win_lengths)\n",
    "\n",
    "date_array_times_w_len = np.repeat(date_array, len(w_len_array))\n",
    "w_len_array_times_date = np.array(list(w_len_array)*len(date_array))\n",
    "assert len(date_array_times_w_len) == len(w_len_array_times_date)\n",
    "\n",
    "arrays = [date_array_times_w_len, w_len_array_times_date]\n",
    "tuples = list(zip(*arrays))"
   ]
  },
  {
   "cell_type": "code",
   "execution_count": 12,
   "id": "7c686378-b071-49d6-8c49-28c7242b9734",
   "metadata": {},
   "outputs": [],
   "source": [
    "# Remove index tuples if win_length exceeds stock's last_date\n",
    "new_tuples = [t for t in tuples if tuple_fits_in_stock(stock, t) is True]\n",
    "assert len(new_tuples) < len(tuples)"
   ]
  },
  {
   "cell_type": "code",
   "execution_count": 13,
   "id": "1446a1b4-3ce8-4d79-85f8-b7e542cc70d7",
   "metadata": {},
   "outputs": [],
   "source": [
    "# compile multiindex from tuples\n",
    "midx = pd.MultiIndex.from_tuples(new_tuples, names=[\"date\", \"win_length\"])\n",
    "# create dataframe on multiindex\n",
    "stock_slope_returns = pd.DataFrame(data=None, index=midx, columns=['slope', 'rsquared', 'return', 'pval', 'H0_rejected'])"
   ]
  },
  {
   "cell_type": "code",
   "execution_count": 14,
   "id": "c9ea82e2-2ba2-45a7-bb00-1e6a6316a2fd",
   "metadata": {},
   "outputs": [],
   "source": [
    "# compute stock KPIs for all indices and window lengths\n",
    "for i in range(len(stock_slope_returns)):\n",
    "    idx = midx[i]\n",
    "    stock_slope_returns.loc[idx] = stock_kpi(stock, idx) "
   ]
  },
  {
   "cell_type": "code",
   "execution_count": 15,
   "id": "792c6147-615b-4acb-9c33-3db170d2b59d",
   "metadata": {},
   "outputs": [
    {
     "name": "stdout",
     "output_type": "stream",
     "text": [
      "Average return: 0.04167314240679562\n"
     ]
    }
   ],
   "source": [
    "# Example return statistics for true slopes and returns > X\n",
    "import statistics\n",
    "\n",
    "stock_slope_returns__real_slope = stock_slope_returns[stock_slope_returns['H0_rejected'] == True]\n",
    "mean_return_real_slope = statistics.mean(stock_slope_returns__real_slope['return'])\n",
    "print(\"Average return: {}\".format(mean_return_real_slope))"
   ]
  },
  {
   "cell_type": "markdown",
   "id": "88b9fb78-1ea5-419d-ac07-72ab6feea523",
   "metadata": {},
   "source": [
    "### Plot Distributions \n",
    "\n",
    "We look at the distribution of slopes. Is there a tendency, i.e. are certain slopes preferred? Some slopes are not statistically significant. Will there be a preference in slopes, if we remove non-significant slopes?"
   ]
  },
  {
   "cell_type": "code",
   "execution_count": 16,
   "id": "f7718460-863a-49c6-b32b-dd7585559c53",
   "metadata": {},
   "outputs": [],
   "source": [
    "df_all_slopes = pd.DataFrame(data=stock_slope_returns).reset_index()\n",
    "df_all_slopes.slope = df_all_slopes.slope.astype(float)\n",
    "\n",
    "df_real_slopes = pd.DataFrame(data=stock_slope_returns__real_slope).reset_index()\n",
    "# convert data type\n",
    "df_real_slopes.slope = df_real_slopes.slope.astype(float)\n",
    "df_real_slopes.win_length = df_real_slopes.win_length.astype(float)"
   ]
  },
  {
   "cell_type": "code",
   "execution_count": 17,
   "id": "97aacb08-30c6-40d1-91e5-2cec050b15b9",
   "metadata": {
    "tags": [
     "render"
    ]
   },
   "outputs": [
    {
     "data": {
      "text/plain": [
       "Text(0.5, 1.0, 'Significant slopes only')"
      ]
     },
     "execution_count": 17,
     "metadata": {},
     "output_type": "execute_result"
    },
    {
     "data": {
      "image/png": "[encoded data removed]",
      "text/plain": [
       "<Figure size 1200x400 with 2 Axes>"
      ]
     },
     "metadata": {},
     "output_type": "display_data"
    }
   ],
   "source": [
    "fig, axes = plt.subplots(nrows=1, ncols=2, figsize=(12, 4))\n",
    "df_all_slopes.slope.hist(bins=100, ax=axes[0])\n",
    "axes[0].set_title('All slopes')\n",
    "df_real_slopes.slope.hist(bins=100, ax=axes[1])\n",
    "axes[1].set_title('Significant slopes only')"
   ]
  },
  {
   "cell_type": "code",
   "execution_count": 18,
   "id": "d6a41b79-2349-4e3a-8cfc-4da43262e463",
   "metadata": {
    "tags": [
     "render"
    ]
   },
   "outputs": [
    {
     "data": {
      "text/plain": [
       "Text(0.5, 1.0, 'Significant slopes only')"
      ]
     },
     "execution_count": 18,
     "metadata": {},
     "output_type": "execute_result"
    },
    {
     "data": {
      "image/png": "[encoded data removed]",
      "text/plain": [
       "<Figure size 640x480 with 1 Axes>"
      ]
     },
     "metadata": {},
     "output_type": "display_data"
    }
   ],
   "source": [
    "ax1 = df_real_slopes.plot(kind='scatter', x='win_length', y='slope', color='b')\n",
    "ax1.set_title('Significant slopes only')"
   ]
  },
  {
   "cell_type": "markdown",
   "id": "64831bcf-17cc-4d11-829b-525477ae5ed2",
   "metadata": {},
   "source": [
    "### Some simple tests\n",
    "\n",
    "We test for normality of the slopes distirbution and perform a multiple comparison Tukey’s range test to compare means of all pairs of groups."
   ]
  },
  {
   "cell_type": "code",
   "execution_count": 19,
   "id": "daaa1a0a-8ce4-4c0b-8a0f-0be10cc852a2",
   "metadata": {},
   "outputs": [
    {
     "name": "stdout",
     "output_type": "stream",
     "text": [
      "H0: data follows a normal distribution\n",
      "Win length: 5 // H0_rejected_ad: True // H0_rejected_ks: True\n",
      "Win length: 6 // H0_rejected_ad: True // H0_rejected_ks: True\n",
      "Win length: 7 // H0_rejected_ad: True // H0_rejected_ks: True\n",
      "Win length: 8 // H0_rejected_ad: True // H0_rejected_ks: True\n",
      "Win length: 9 // H0_rejected_ad: True // H0_rejected_ks: True\n",
      "Win length: 10 // H0_rejected_ad: True // H0_rejected_ks: True\n",
      "Win length: 11 // H0_rejected_ad: True // H0_rejected_ks: True\n",
      "Win length: 12 // H0_rejected_ad: True // H0_rejected_ks: True\n",
      "Win length: 13 // H0_rejected_ad: True // H0_rejected_ks: True\n",
      "Win length: 14 // H0_rejected_ad: True // H0_rejected_ks: True\n",
      "Win length: 15 // H0_rejected_ad: True // H0_rejected_ks: True\n",
      "Win length: 16 // H0_rejected_ad: True // H0_rejected_ks: True\n",
      "Win length: 17 // H0_rejected_ad: True // H0_rejected_ks: True\n",
      "Win length: 18 // H0_rejected_ad: True // H0_rejected_ks: True\n",
      "Win length: 19 // H0_rejected_ad: True // H0_rejected_ks: True\n",
      "Win length: 20 // H0_rejected_ad: True // H0_rejected_ks: True\n",
      "Win length: 21 // H0_rejected_ad: True // H0_rejected_ks: True\n",
      "Win length: 22 // H0_rejected_ad: True // H0_rejected_ks: True\n",
      "Win length: 23 // H0_rejected_ad: True // H0_rejected_ks: True\n",
      "Win length: 24 // H0_rejected_ad: True // H0_rejected_ks: True\n",
      "Win length: 25 // H0_rejected_ad: True // H0_rejected_ks: True\n",
      "Win length: 26 // H0_rejected_ad: True // H0_rejected_ks: True\n",
      "Win length: 27 // H0_rejected_ad: True // H0_rejected_ks: True\n",
      "Win length: 28 // H0_rejected_ad: True // H0_rejected_ks: True\n",
      "Win length: 29 // H0_rejected_ad: True // H0_rejected_ks: True\n"
     ]
    }
   ],
   "source": [
    "# Anderson-Darling and Kolmogorov-Smirnov test\n",
    "# for normality of slope distribution\n",
    "# Source: \n",
    "#  https://www.statsmodels.org/dev/generated/statsmodels.stats.diagnostic.normal_ad.html\n",
    "#  https://www.statsmodels.org/dev/generated/statsmodels.stats.diagnostic.kstest_fit.html#statsmodels.stats.diagnostic.kstest_fit\n",
    "alpha = 0.05\n",
    "slope_thresh = 10 # cut off slope distr. left and right for values larger than threshold\n",
    "\n",
    "df = df_all_slopes\n",
    "\n",
    "print(\"H0: data follows a normal distribution\")\n",
    "for w in win_lengths:\n",
    "    df_by_win_length = df[df['win_length']==w]\n",
    "    df_by_win_length = df[abs(df['slope'])<slope_thresh]\n",
    "    ad_teststatistic = sm.stats.diagnostic.normal_ad(df_by_win_length['slope'])\n",
    "    # H0: data follows a normal distribution\n",
    "    H0_rejected_ad = True if (ad_teststatistic[1] < alpha) else False\n",
    "    ks_teststatistic = sm.stats.diagnostic.kstest_fit(df_by_win_length['slope'])\n",
    "    H0_rejected_ks = True if (ks_teststatistic[1] < alpha) else False\n",
    "    print(\"Win length: {} // H0_rejected_ad: {} // H0_rejected_ks: {}\".format(w, H0_rejected_ad, H0_rejected_ks))"
   ]
  },
  {
   "cell_type": "code",
   "execution_count": 20,
   "id": "7248b738-56a9-4411-bc3f-0d6a63584414",
   "metadata": {},
   "outputs": [
    {
     "name": "stdout",
     "output_type": "stream",
     "text": [
      "Any mean different? - False\n",
      "All pairwise means are the same? - True\n"
     ]
    }
   ],
   "source": [
    "# Tests for multiple comparisons\n",
    "# Tukey’s range test to compare means of all pairs of groups\n",
    "\n",
    "df = df_real_slopes\n",
    "\n",
    "from statsmodels import sandbox as sb\n",
    "mc = sb.stats.multicomp.MultiComparison(data=df['slope'], groups=df['win_length'])\n",
    "res_tukeyhsd = mc.tukeyhsd(alpha=0.05)\n",
    "\n",
    "# H0: pairwise means are the same\n",
    "# if .rejects shows False, H0 is not rejected, i.e. we cannot say that means are different\n",
    "all_rejected = not res_tukeyhsd.reject.all()\n",
    "any_true = res_tukeyhsd.reject.any()\n",
    "\n",
    "print('Any mean different? - {}'.format(any_true))\n",
    "print('All pairwise means are the same? - {}'.format(all_rejected))"
   ]
  },
  {
   "cell_type": "markdown",
   "id": "ef706460-016b-42da-b2ef-48f834df1e61",
   "metadata": {},
   "source": [
    "### Store Features in `.parquet` File\n",
    "\n",
    "Output file name in variable `output_file`"
   ]
  },
  {
   "cell_type": "code",
   "execution_count": 21,
   "id": "1086792f-b64a-4d70-ba37-dd4f2e5c0db1",
   "metadata": {
    "tags": []
   },
   "outputs": [],
   "source": [
    "stock_slope_returns.to_parquet(path=output_file, index=True)"
   ]
  },
  {
   "cell_type": "code",
   "execution_count": 22,
   "id": "4e4791f7-7fa3-4d1e-804a-ddcbf93eaa1f",
   "metadata": {
    "tags": []
   },
   "outputs": [
    {
     "data": {
      "text/plain": [
       "'/YASMaPE/data/stock_correl/stock_csv/MUX.DE.parquet'"
      ]
     },
     "execution_count": 22,
     "metadata": {},
     "output_type": "execute_result"
    }
   ],
   "source": [
    "output_file"
   ]
  }
 ],
 "metadata": {
  "kernelspec": {
   "display_name": "Python 3 (ipykernel)",
   "language": "python",
   "name": "python3"
  },
  "language_info": {
   "codemirror_mode": {
    "name": "ipython",
    "version": 3
   },
   "file_extension": ".py",
   "mimetype": "text/x-python",
   "name": "python",
   "nbconvert_exporter": "python",
   "pygments_lexer": "ipython3",
   "version": "3.10.9"
  }
 },
 "nbformat": 4,
 "nbformat_minor": 5
}
