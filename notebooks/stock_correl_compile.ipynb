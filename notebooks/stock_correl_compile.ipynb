{
 "cells": [
  {
   "cell_type": "markdown",
   "id": "7096ae45-d8ba-4b2d-afee-d4aa01e40eed",
   "metadata": {},
   "source": [
    "# Stock Correlation\n",
    "\n",
    "We analyse an often heard hypothesis of stock correlations: There are stocks which follow in their trends one after an other within a short time window. If such correlations are predictable, we can exploit them for buy/sell signals. \n",
    "\n",
    "Our analysis looks for such correlations and tests whether they follow a predictable pattern."
   ]
  },
  {
   "cell_type": "markdown",
   "id": "5a429167-40f4-464a-ac6e-83e4c522b9e4",
   "metadata": {},
   "source": [
    "## Correlating Stock Compiliation\n",
    "\n",
    "This notbook consumes `.parquet` files from two stocks and concats KPIs of consecutive windows. Here is an example\n",
    "\n",
    "```\n",
    "stock1_date stock1_win_length stock1_kpis stock2_date stock2_win_length stock2_kpis \n",
    "```\n",
    "\n",
    "where $\\textrm{stock2_date = stock1_date + stock1_win_length}$. The date is a result of index manipulation. Say, stock1_date is a Wednesday and one adds 5. This _does not_ result in Monday, but in Wednesday. Days without stock data are not counted.\n"
   ]
  },
  {
   "cell_type": "markdown",
   "id": "5d78cf29-532a-44a6-943a-eeeb300022ef",
   "metadata": {},
   "source": [
    "### Parameters"
   ]
  },
  {
   "cell_type": "code",
   "execution_count": 31,
   "id": "429458d7-14d4-4b7d-90f5-ff307e55b42c",
   "metadata": {},
   "outputs": [],
   "source": [
    "input_file_1 = './SMI.CH.parquet'\n",
    "input_file_2 = './IXX.DE.parquet'"
   ]
  },
  {
   "cell_type": "code",
   "execution_count": 30,
   "id": "c5e1866d-5221-4338-a9a8-8ca95672dd9e",
   "metadata": {},
   "outputs": [],
   "source": [
    "import os\n",
    "output_file = os.path.splitext(input_file_1)[0] + '_' + os.path.splitext(os.path.basename(input_file_2))[0]  + '.parquet'"
   ]
  },
  {
   "cell_type": "markdown",
   "id": "e3a28944-baad-47ae-8eb1-fcb3c575517c",
   "metadata": {},
   "source": [
    "### Imports"
   ]
  },
  {
   "cell_type": "code",
   "execution_count": 2,
   "id": "c4c79ba0-b5de-4d93-b514-7d388a43e0e4",
   "metadata": {},
   "outputs": [],
   "source": [
    "# libs we need\n",
    "import pandas as pd\n",
    "import statsmodels.api as sm\n",
    "import numpy as np"
   ]
  },
  {
   "cell_type": "markdown",
   "id": "c92f0beb-0ca9-493e-ad4d-e3fb518f12f8",
   "metadata": {},
   "source": [
    "### Load Data\n",
    "\n",
    "Load data from `.parquet` files"
   ]
  },
  {
   "cell_type": "code",
   "execution_count": 20,
   "id": "2c9c0d0f-210e-4614-b8b4-075c99dd0bf9",
   "metadata": {},
   "outputs": [
    {
     "name": "stdout",
     "output_type": "stream",
     "text": [
      "Data rows in ./SMI.CH.parquet: 8000\n",
      "Data rows in ./IXX.DE.parquet: 8075\n"
     ]
    }
   ],
   "source": [
    "stock1 = pd.read_parquet(input_file_1)\n",
    "stock2 = pd.read_parquet(input_file_2)\n",
    "\n",
    "# Summary stats\n",
    "print('Data rows in {}: {}'.format(input_file_1, len(stock1)))\n",
    "print('Data rows in {}: {}'.format(input_file_2, len(stock2)))"
   ]
  },
  {
   "cell_type": "markdown",
   "id": "4d0b7b27-b5b1-4820-b771-a3e583c25406",
   "metadata": {},
   "source": [
    "### Compile Dataframe"
   ]
  },
  {
   "cell_type": "code",
   "execution_count": 4,
   "id": "6a5d5eb2-f869-4425-ba3b-ac458946df4b",
   "metadata": {},
   "outputs": [],
   "source": [
    "# for each date/win_length combination find the consecutive date after the window\n",
    "stock1_dates = list(set([i[0] for i in stock1.index]))\n",
    "stock1_dates.sort()"
   ]
  },
  {
   "cell_type": "code",
   "execution_count": 5,
   "id": "03ff2ef9-d5c1-4508-b293-0cf684fb4acc",
   "metadata": {},
   "outputs": [],
   "source": [
    "# dataframe of corresponding dates from stock2 _after_ each stock1 window\n",
    "stock2_corresponding = pd.DataFrame(data=None, index=stock1.index, columns=['date_stock2'])\n",
    "\n",
    "# find correspondig dates\n",
    "for stock1_idx in stock1.index:\n",
    "    stock1_date, stock1_win_length = stock1_idx\n",
    "    stock2_date_idx = stock1_dates.index(stock1_date) + stock1_win_length\n",
    "    try:\n",
    "        date_stock2 = stock1_dates[stock2_date_idx+1] # next date _after_ the window\n",
    "    except:\n",
    "        continue\n",
    "    stock2_corresponding.loc[stock1_idx]['date_stock2'] = date_stock2\n",
    "\n",
    "# remove invalid combinations\n",
    "stock2_corresponding.dropna(inplace=True)\n"
   ]
  },
  {
   "cell_type": "code",
   "execution_count": 6,
   "id": "07c0ed5a-da9d-4854-a50f-eef60a409e3d",
   "metadata": {},
   "outputs": [],
   "source": [
    "# join with stock1 dataframe\n",
    "stock1 = stock1.join(stock2_corresponding, how='inner')\n",
    "assert len(stock2_corresponding) == len(stock1)"
   ]
  },
  {
   "cell_type": "code",
   "execution_count": 7,
   "id": "99e41df2-a818-480c-9554-35aed8a70b32",
   "metadata": {},
   "outputs": [],
   "source": [
    "# prepare index in stock2 for joining with stock1\n",
    "stock2.reset_index(inplace=True)\n",
    "stock2.rename(columns={'date': 'date_stock2'}, errors=\"raise\", inplace=True)\n",
    "stock2.set_index('date_stock2',inplace=True)"
   ]
  },
  {
   "cell_type": "code",
   "execution_count": 8,
   "id": "03f92687-79d2-43a0-a2b0-24d8fdaa86a3",
   "metadata": {},
   "outputs": [],
   "source": [
    "# join stock1 and stock2 on stock2_date as corresponding date\n",
    "stock_correspond = stock1.reset_index().set_index('date_stock2').join(stock2, lsuffix='_stock1', rsuffix='_stock2', how='left')\n",
    "stock_correspond.rename(columns={'date':'date_stock1'}, inplace=True)"
   ]
  },
  {
   "cell_type": "code",
   "execution_count": 22,
   "id": "dab8422d-4dba-4b53-ad5a-762fea413263",
   "metadata": {},
   "outputs": [
    {
     "name": "stdout",
     "output_type": "stream",
     "text": [
      "Corresponding stock rows: 188750\n"
     ]
    }
   ],
   "source": [
    "# build new multi index\n",
    "stock_correspond = stock_correspond.reset_index().set_index(['date_stock1', 'date_stock2'])\n",
    "# Summary stats\n",
    "print('Corresponding stock rows: {}'.format(len(stock_correspond)))"
   ]
  },
  {
   "cell_type": "markdown",
   "id": "dcf5a933-0882-4c24-965b-bb641c745a2d",
   "metadata": {},
   "source": [
    "### Store Features in `.parquet` File\n",
    "\n",
    "Output file name in variable `output_file`"
   ]
  },
  {
   "cell_type": "code",
   "execution_count": 29,
   "id": "bb5a637f-c5f8-4b62-b8d4-e5632f742a56",
   "metadata": {
    "tags": []
   },
   "outputs": [],
   "source": [
    "stock_correspond.to_parquet(path=output_file, index=True)"
   ]
  },
  {
   "cell_type": "code",
   "execution_count": null,
   "id": "a78750e2-b43d-4226-84b3-3c9dddc7b5ed",
   "metadata": {},
   "outputs": [],
   "source": []
  }
 ],
 "metadata": {
  "kernelspec": {
   "display_name": "Python 3 (ipykernel)",
   "language": "python",
   "name": "python3"
  },
  "language_info": {
   "codemirror_mode": {
    "name": "ipython",
    "version": 3
   },
   "file_extension": ".py",
   "mimetype": "text/x-python",
   "name": "python",
   "nbconvert_exporter": "python",
   "pygments_lexer": "ipython3",
   "version": "3.10.6"
  }
 },
 "nbformat": 4,
 "nbformat_minor": 5
}
