{
 "cells": [
  {
   "cell_type": "markdown",
   "id": "457b6d7e-f677-4c87-b433-6cb8e0cfabb9",
   "metadata": {},
   "source": [
    "# Create Features from Stock Dataset\n",
    "\n",
    "The stock data set consists of features. A single feature vector is a list consisting of\n",
    "\n",
    "* time series of stock prices\n",
    "* chart indicators\n",
    "* window length (length of time series)\n",
    "* return as a ratio\n",
    "* horizon is the number of days after the window's last day\n",
    "\n",
    "The latter two are parameters defined by the user in this notebook.\n",
    "\n",
    "The return is the ratio when we buy the stock at the window's last day and sell it `horizon` days afterwards.\n",
    "\n",
    "**User task:** Define variables and parameters. "
   ]
  },
  {
   "cell_type": "markdown",
   "id": "3e8ce1a1-0e81-43ef-b4ee-3ad2dd33df0a",
   "metadata": {},
   "source": [
    "### **File variables**"
   ]
  },
  {
   "cell_type": "code",
   "execution_count": 1,
   "id": "0f01bb90-add2-4d84-932c-2adc2ad85385",
   "metadata": {},
   "outputs": [],
   "source": [
    "input_csv_file = './stockdata.csv'\n",
    "train_data_file = './train_set.parquet'\n",
    "eval_data_file = './eval_set.parquet'"
   ]
  },
  {
   "cell_type": "markdown",
   "id": "85fc2f71-10d3-46e1-87fe-f3707e9288b5",
   "metadata": {},
   "source": [
    "### **Parameters**\n",
    "\n",
    "There are two parameter sections\n",
    "\n",
    "1. Feature sampling\n",
    "1. Split partitions for training and evalation (testing). The latter is the holdout dataset."
   ]
  },
  {
   "cell_type": "markdown",
   "id": "1ea12e16-076f-4081-bb51-94edf64bafb8",
   "metadata": {},
   "source": [
    "#### **Sampling**\n",
    "\n",
    "For $m$ different window lengths and $m$ different return horizons, we select $k$ windows from the stock data. For each window, we compute the stock feature vector. The final feature set contains  $m * m * k$ feature vectors. "
   ]
  },
  {
   "cell_type": "code",
   "execution_count": 2,
   "id": "8b9df3cf-c38f-42a6-bb93-51b72ca85320",
   "metadata": {},
   "outputs": [],
   "source": [
    "# parameters\n",
    "m = 20\n",
    "# m different window lengths\n",
    "w = [i for i in range(5,5+m)]\n",
    "# m different return horizons\n",
    "h = [i for i in range(5,5+m)]\n",
    "# number of date samples\n",
    "k = 20"
   ]
  },
  {
   "cell_type": "markdown",
   "id": "ef8d9fab-7290-4dc4-8000-31f689529ba1",
   "metadata": {},
   "source": [
    "#### **Split partitions**\n",
    "\n",
    "Split train and test (eval) partition. We are using the term _eval_ here, to indicate its use in the `ludwig evaluation ...` command.\n",
    "\n",
    "* $\\kappa \\in [0,1]$ is the relative size of the training partition starting with the oldest date    \n",
    "* $1-\\kappa$ is the eval partition    \n",
    "* $\\kappa_{random}$ lower part of the training partition, where random window sampling is applied.\n",
    "$1-\\kappa_{random}$ consists of all partitions (train, eval) where consecutive window sampling is applied.\n",
    "\n",
    "The following relations are valid:     \n",
    "* $\\kappa = \\kappa_{random} + (\\kappa-\\kappa_{random})$, where $\\kappa-\\kappa_{random}$ is the part within the training partition where consecutive sampling is applied\n",
    "* $1 = \\kappa + (1-\\kappa)$\n",
    "\n",
    "If $\\kappa_{random} = -1$, then all partions will use random window sampling.\n",
    "\n",
    "**Note:** The number $k$ of date samples is distributed accordingly across the partitions."
   ]
  },
  {
   "cell_type": "code",
   "execution_count": 3,
   "id": "6980cfae-e711-4c81-b5d4-d47c59a3d6ef",
   "metadata": {},
   "outputs": [],
   "source": [
    "# split parameters\n",
    "kappa = 0.6 # 60% training, 40% eval\n",
    "kappa_random = kappa - 0.1 # lower random partition within train\n",
    "kappa_random = -1"
   ]
  },
  {
   "cell_type": "code",
   "execution_count": 4,
   "id": "06a39f5d-e6bc-4a74-a4cb-e90e36ccf99b",
   "metadata": {},
   "outputs": [],
   "source": [
    "assert kappa >= 0\n",
    "assert kappa <= 1\n",
    "\n",
    "if kappa_random != -1:\n",
    "    assert kappa_random >=0\n",
    "    assert kappa_random <=1\n",
    "    kappa_random <= kappa\n",
    "else:\n",
    "    assert kappa_random == -1\n",
    "\n",
    "assert k,m > 0"
   ]
  },
  {
   "cell_type": "markdown",
   "id": "7f16ba9b-e289-4fef-b702-e98af1dd88c4",
   "metadata": {},
   "source": [
    "#### **Classification Targets**\n",
    "\n",
    "YASMaPE approaches a regression and a classification problem. `create_feature` computes the revenue and stores it in the `return` variable. Latter is used as regression target. Addtionally, it also computes the classification target variable from the `return` value. It implements the following rule.\n",
    "```\n",
    "if return > x:\n",
    "  retgtx = True\n",
    "else:\n",
    "  retgtx = False\n",
    "```\n",
    "The parameter specifies a list of x values for the rule above."
   ]
  },
  {
   "cell_type": "code",
   "execution_count": 5,
   "id": "06762ca3-8a56-49b6-9eff-0cff78a1108e",
   "metadata": {},
   "outputs": [],
   "source": [
    "classification_targets = [t for t in range(1,100, 2)]"
   ]
  },
  {
   "cell_type": "markdown",
   "id": "ddd0ac74-5ccd-414a-b2e9-4a3327facf69",
   "metadata": {},
   "source": [
    "#### Install and import"
   ]
  },
  {
   "cell_type": "code",
   "execution_count": 6,
   "id": "50f7d137-3a32-49d4-ab9b-a456962c8556",
   "metadata": {},
   "outputs": [],
   "source": [
    "# Install a pip module in the current Jupyter kernel\n",
    "import sys\n",
    "\n",
    "try:\n",
    "    from stockstats import StockDataFrame as sdf\n",
    "except ImportError as err:\n",
    "    print(\"Handling run-time error: \", err)\n",
    "    print(\"Will now install missing module.\")\n",
    "    !{sys.executable} -m pip install stockstats\n",
    "\n",
    "try:\n",
    "    import pyarrow as pa\n",
    "except ImportError as err:\n",
    "    print(\"Handling run-time error: \", err)\n",
    "    print(\"Will now install missing module.\")\n",
    "    !{sys.executable} -m pip install pyarrow"
   ]
  },
  {
   "cell_type": "code",
   "execution_count": 7,
   "id": "39f3829e-5aad-4186-9278-2d756ff8008e",
   "metadata": {},
   "outputs": [],
   "source": [
    "# imports\n",
    "import pandas as pd\n",
    "import numpy as np\n",
    "from stockstats import StockDataFrame as sdf\n",
    "import random\n",
    "import math\n",
    "\n",
    "# plotting\n",
    "from matplotlib import pyplot as plt\n",
    "%matplotlib inline\n",
    "import seaborn as sns\n",
    "import matplotlib.style as style "
   ]
  },
  {
   "cell_type": "markdown",
   "id": "9eb6325c-9544-4f5f-8652-44039d3f1ac9",
   "metadata": {},
   "source": [
    "## Load csv data\n",
    "\n",
    "We assume a csv file containing stock prices with features from `colnames`."
   ]
  },
  {
   "cell_type": "code",
   "execution_count": 8,
   "id": "54fcdee4-9638-4081-bdff-6122fac1eb65",
   "metadata": {},
   "outputs": [],
   "source": [
    "# Path to data is in parameter 'input_csv_file'\n",
    "\n",
    "# import data\n",
    "colnames = ['date', 'open', 'high', 'low', 'close', 'adj_close', 'volume']\n",
    "data = pd.read_csv(input_csv_file, delimiter=',', header=0, names=colnames, decimal='.')\n",
    "stock  = sdf.retype(data)\n",
    "# sort by date ascending \n",
    "stock.sort_index(ascending=True, inplace=True)"
   ]
  },
  {
   "cell_type": "code",
   "execution_count": 9,
   "id": "c0511936-ca96-4a15-9bc7-bdff4a0c88e9",
   "metadata": {},
   "outputs": [
    {
     "data": {
      "text/html": [
       "<div>\n",
       "<style scoped>\n",
       "    .dataframe tbody tr th:only-of-type {\n",
       "        vertical-align: middle;\n",
       "    }\n",
       "\n",
       "    .dataframe tbody tr th {\n",
       "        vertical-align: top;\n",
       "    }\n",
       "\n",
       "    .dataframe thead th {\n",
       "        text-align: right;\n",
       "    }\n",
       "</style>\n",
       "<table border=\"1\" class=\"dataframe\">\n",
       "  <thead>\n",
       "    <tr style=\"text-align: right;\">\n",
       "      <th></th>\n",
       "      <th>open</th>\n",
       "      <th>high</th>\n",
       "      <th>low</th>\n",
       "      <th>close</th>\n",
       "      <th>adj_close</th>\n",
       "      <th>volume</th>\n",
       "    </tr>\n",
       "    <tr>\n",
       "      <th>date</th>\n",
       "      <th></th>\n",
       "      <th></th>\n",
       "      <th></th>\n",
       "      <th></th>\n",
       "      <th></th>\n",
       "      <th></th>\n",
       "    </tr>\n",
       "  </thead>\n",
       "  <tbody>\n",
       "    <tr>\n",
       "      <th>2021-09-06</th>\n",
       "      <td>10.610</td>\n",
       "      <td>10.834</td>\n",
       "      <td>10.566</td>\n",
       "      <td>10.762</td>\n",
       "      <td>10.535241</td>\n",
       "      <td>6424293</td>\n",
       "    </tr>\n",
       "    <tr>\n",
       "      <th>2021-09-07</th>\n",
       "      <td>10.750</td>\n",
       "      <td>10.874</td>\n",
       "      <td>10.718</td>\n",
       "      <td>10.868</td>\n",
       "      <td>10.639008</td>\n",
       "      <td>6205259</td>\n",
       "    </tr>\n",
       "    <tr>\n",
       "      <th>2021-09-08</th>\n",
       "      <td>10.762</td>\n",
       "      <td>10.922</td>\n",
       "      <td>10.670</td>\n",
       "      <td>10.812</td>\n",
       "      <td>10.584188</td>\n",
       "      <td>7894023</td>\n",
       "    </tr>\n",
       "    <tr>\n",
       "      <th>2021-09-09</th>\n",
       "      <td>10.710</td>\n",
       "      <td>10.904</td>\n",
       "      <td>10.560</td>\n",
       "      <td>10.844</td>\n",
       "      <td>10.615513</td>\n",
       "      <td>6868521</td>\n",
       "    </tr>\n",
       "    <tr>\n",
       "      <th>2021-09-10</th>\n",
       "      <td>10.864</td>\n",
       "      <td>11.020</td>\n",
       "      <td>10.774</td>\n",
       "      <td>10.812</td>\n",
       "      <td>10.584188</td>\n",
       "      <td>6873800</td>\n",
       "    </tr>\n",
       "  </tbody>\n",
       "</table>\n",
       "</div>"
      ],
      "text/plain": [
       "              open    high     low   close  adj_close   volume\n",
       "date                                                          \n",
       "2021-09-06  10.610  10.834  10.566  10.762  10.535241  6424293\n",
       "2021-09-07  10.750  10.874  10.718  10.868  10.639008  6205259\n",
       "2021-09-08  10.762  10.922  10.670  10.812  10.584188  7894023\n",
       "2021-09-09  10.710  10.904  10.560  10.844  10.615513  6868521\n",
       "2021-09-10  10.864  11.020  10.774  10.812  10.584188  6873800"
      ]
     },
     "execution_count": 9,
     "metadata": {},
     "output_type": "execute_result"
    }
   ],
   "source": [
    "stock.head()"
   ]
  },
  {
   "cell_type": "markdown",
   "id": "9a29a235-809b-45a4-a8bb-e62335c7e27d",
   "metadata": {},
   "source": [
    "## Data Visualization\n",
    "\n",
    "Let's quickly review the data."
   ]
  },
  {
   "cell_type": "code",
   "execution_count": 10,
   "id": "cc02a97b-3a42-4889-8e82-fefeb7fc902a",
   "metadata": {},
   "outputs": [
    {
     "data": {
      "text/plain": [
       "<AxesSubplot:xlabel='label', ylabel='price'>"
      ]
     },
     "execution_count": 10,
     "metadata": {},
     "output_type": "execute_result"
    },
    {
     "data": {
      "image/png": "[encoded data removed]",
      "text/plain": [
       "<Figure size 800x550 with 2 Axes>"
      ]
     },
     "metadata": {},
     "output_type": "display_data"
    }
   ],
   "source": [
    "# reset the index to use it as x-axis data\n",
    "stock.reset_index(inplace=True)\n",
    "# reindex the dataframe\n",
    "stock.index = [stock['date']]\n",
    "\n",
    "style.use('seaborn-notebook')\n",
    "style.use('seaborn-white')\n",
    "\n",
    "# 2x1 plot\n",
    "stock_fig = plt.figure()\n",
    "stock_fig1 = stock_fig.add_subplot(211) # 2x1, fig.1\n",
    "stock_fig2 = stock_fig.add_subplot(212) # 2x1, fig.2\n",
    "\n",
    "# line plot for close\n",
    "sns.lineplot(data=stock, x='date', y='close', label='Close', ax=stock_fig1)\n",
    "# remove ticks and labels \n",
    "stock_fig1.tick_params(labelbottom=False, bottom=False)\n",
    "\n",
    "# box plot for open, close, high, low\n",
    "stock_prices = pd.DataFrame({'price': stock['high'], 'label': 'high'})\n",
    "stock_prices = pd.concat([stock_prices, pd.DataFrame({'price': stock['low'], 'label': 'low'})], sort=False)\n",
    "stock_prices = pd.concat([stock_prices, pd.DataFrame({'price': stock['open'], 'label': 'open'})], sort=False)\n",
    "stock_prices = pd.concat([stock_prices, pd.DataFrame({'price': stock['close'], 'label': 'close'})], sort=False)\n",
    "sns.boxplot(x=\"label\", y=\"price\", data=stock_prices)"
   ]
  },
  {
   "cell_type": "markdown",
   "id": "c883463d-8bb6-42bd-9d13-a79433c291d7",
   "metadata": {},
   "source": [
    "## Compute Features\n",
    "\n",
    "Use default indicators from `stockstats` library."
   ]
  },
  {
   "cell_type": "code",
   "execution_count": 11,
   "id": "760cc7fc-7304-4955-909f-d25a75640e70",
   "metadata": {},
   "outputs": [],
   "source": [
    "stock  = sdf.retype(data)\n",
    "# sort by date ascending \n",
    "stock.sort_index(ascending=True, inplace=True)"
   ]
  },
  {
   "cell_type": "code",
   "execution_count": 12,
   "id": "b942d210-8c9c-496d-8721-aeb00f25c7c4",
   "metadata": {},
   "outputs": [],
   "source": [
    "stock.init_all()"
   ]
  },
  {
   "cell_type": "markdown",
   "id": "5a763ae3-fe08-4320-b6d1-15deea6ce431",
   "metadata": {},
   "source": [
    "Some data cleaning"
   ]
  },
  {
   "cell_type": "code",
   "execution_count": 13,
   "id": "5ad9d4bc-6ef1-4507-a1d1-b246bc614dc5",
   "metadata": {},
   "outputs": [],
   "source": [
    "# find nan / inf rows\n",
    "stock_nan_rows=stock[stock.isna().any(axis=1)]\n",
    "stock_inf_rows=stock[(stock==np.inf).any(axis=1)]\n",
    "# remove nan/inf rows\n",
    "df = pd.concat([stock_nan_rows, stock_inf_rows], axis=1)\n",
    "stock.drop(df.index,inplace=True)"
   ]
  },
  {
   "cell_type": "markdown",
   "id": "85dfbd23-c59c-4609-b9dc-871ff7203671",
   "metadata": {},
   "source": [
    "### Some aux functions"
   ]
  },
  {
   "cell_type": "markdown",
   "id": "be297278-eedb-4923-baad-9e1df700d0a8",
   "metadata": {},
   "source": [
    "`identify_partition` adds the column `partition` to the dataframe and marks the partions as follows:\n",
    "\n",
    "* Partition $0$: train, random window sampling\n",
    "* Partition $1$: train, consecutive window sampling\n",
    "* Partition $2$: eval, consecutive window sampling, unless $\\kappa_{random} = -1$, then it is random sampling, too."
   ]
  },
  {
   "cell_type": "code",
   "execution_count": 14,
   "id": "cdfe669f-790b-4c2a-8086-191461768abd",
   "metadata": {},
   "outputs": [],
   "source": [
    "def partition_edges():\n",
    "    # create a local version of kappa_rando\n",
    "    l_kappa_random = kappa_random\n",
    "    \n",
    "    if kappa_random == -1: # compare with global var\n",
    "        l_kappa_random = kappa # define local var\n",
    "    \n",
    "    part_0_start = 0\n",
    "    part_0_end = math.floor(len(stock)*(l_kappa_random)) \n",
    "    \n",
    "    part_1_start = part_0_end\n",
    "    part_1_end = part_1_start + math.floor(len(stock)*(kappa-l_kappa_random))\n",
    "    \n",
    "    part_2_start = part_1_end\n",
    "    part_2_end = len(stock)\n",
    "    \n",
    "    part_start = [part_0_start, part_1_start, part_2_start]\n",
    "    part_end = [part_0_end, part_1_end, part_2_end]\n",
    "\n",
    "    part_no = [i for i in range(0,3)]\n",
    "    return zip(part_start, part_end, part_no)\n",
    "\n",
    "def identify_partition():\n",
    "    assert k <= len(stock)\n",
    "    # setup stock dataframe\n",
    "    stock.sort_index(ascending=True, inplace=True)\n",
    "    stock['partition'] = 0\n",
    "    \n",
    "    for s, e, p in partition_edges():\n",
    "        stock.loc[stock[s:e].index, 'partition'] = p"
   ]
  },
  {
   "cell_type": "markdown",
   "id": "2860a40e-9b22-412a-818f-e8da73a94d12",
   "metadata": {},
   "source": [
    "`rand_window_idx` computes a list of $k$ random integers to use as window start indices. The function respects the the window length and the return horizon. As a consequence, the start indices can be further used to extract features without going out of bound of the stock dataframe."
   ]
  },
  {
   "cell_type": "code",
   "execution_count": 15,
   "id": "28ace1bf-63a4-4386-bcb2-5d31bfffb8c5",
   "metadata": {},
   "outputs": [],
   "source": [
    "def rand_window_idx(k, win_len, ret_horizon, stock_start=0, stock_end=len(stock)):\n",
    "    assert win_len+ret_horizon < stock_end\n",
    "    assert k>=0\n",
    "    \n",
    "    min_idx = stock_start\n",
    "    max_idx = stock_end - (win_len + ret_horizon) - 1\n",
    "\n",
    "    # return k random window start indices \n",
    "    return [random.randint(min_idx, max_idx) for i in range(k)]   "
   ]
  },
  {
   "cell_type": "markdown",
   "id": "926847b0-ef0c-4fc0-88f9-61be0b9d6119",
   "metadata": {},
   "source": [
    "The function `stock_feature` selects a window of consecutive stock prices and computes a feature vector from it consisting of\n",
    "\n",
    "* a series of stock prices\n",
    "* window length value `win_len`\n",
    "* all chart indicators at the last day of the window\n",
    "* the return as ratio when we buy the stock at the window's last day and sell it `ret_horizon` days afterwards\n",
    "* `ret_horizon` value"
   ]
  },
  {
   "cell_type": "code",
   "execution_count": 16,
   "id": "634fe68e-176f-43db-acad-dab60f4c6c48",
   "metadata": {},
   "outputs": [],
   "source": [
    "def stock_feature(win_start_idx, win_len, ret_horizon, stock=stock, price='close'):\n",
    "    \n",
    "    def stock_return():\n",
    "        win_end_idx = win_start_idx + win_len\n",
    "        ret_idx = win_end_idx + ret_horizon\n",
    "        buy_price = stock.iloc[ret_idx-1][price]\n",
    "        sell_price = stock.iloc[win_end_idx-1][price]\n",
    "        ret_price = sell_price - buy_price\n",
    "        ret = ret_price / buy_price \n",
    "        return ret\n",
    "    \n",
    "    def stock_return_greater_x(stock_ret, x):\n",
    "        return True if stock_ret > x else False \n",
    "    \n",
    "    def feature_retgtx(stock_ret):\n",
    "        classification_target_vars = ['retgt'+str(x) for x in classification_targets]\n",
    "        classification_target_vals = [stock_return_greater_x(stock_ret, x/100) for x in classification_targets]\n",
    "        retgtx = pd.DataFrame(data=[classification_target_vals], columns=classification_target_vars, index=None)\n",
    "        return retgtx\n",
    "        \n",
    "    win_end_idx = win_start_idx+win_len\n",
    "    price_series = stock.iloc[win_start_idx:win_end_idx][price]    \n",
    "    c_ind = stock.iloc[[win_end_idx-1]] # dataframe row at last day in window\n",
    "    # remove the columns from the input data file, chart indicators remain\n",
    "    # colnames defined when input csv file is loaded  \n",
    "    drop_colnames = [colname for colname in colnames if colname != 'date']\n",
    "    c_ind = c_ind.drop(columns=drop_colnames)\n",
    "    \n",
    "    # build feature vector from chart indicator dataframe\n",
    "    feature = c_ind\n",
    "    feature['price'] = \" \".join(str(p) for p in price_series) \n",
    "    feature['win_len'] = win_len\n",
    "    feature['return'] = stock_ret = stock_return()\n",
    "    feature['ret_horizon'] = ret_horizon\n",
    "    retgtx = feature_retgtx(stock_ret)\n",
    "    retgtx['date'] = feature.index[0]\n",
    "    retgtx.reset_index()\n",
    "    retgtx = retgtx.set_index('date')\n",
    "    feature = pd.concat([feature,retgtx], axis=1)\n",
    "    \n",
    "    return feature # feature vector is a dataframe"
   ]
  },
  {
   "cell_type": "markdown",
   "id": "dd23abb8-c3d1-4050-8f38-a8ee46a2c786",
   "metadata": {},
   "source": [
    "### Build the feature vector list\n",
    "\n",
    "At first, identify which dates correspond to which partition according to the $\\kappa$ and $\\kappa_{random}$ parameter. Then draw samples from the partitions and compile the list of feature vectors. "
   ]
  },
  {
   "cell_type": "code",
   "execution_count": 17,
   "id": "e6d2b9c1-2509-4970-ac6a-9ee636eed08d",
   "metadata": {},
   "outputs": [],
   "source": [
    "identify_partition()"
   ]
  },
  {
   "cell_type": "markdown",
   "id": "7a160e68-86ea-4df1-850c-13cba9fb82e7",
   "metadata": {},
   "source": [
    "For $m$ different window lengths and $m$ different return horizons, we select $k$ windows from the stock data. From each window, we compute the stock feature vector. The final feature set contains  $m * m * k$ feature vectors. The data structure is a list of dataframes each containing a feature vector."
   ]
  },
  {
   "cell_type": "code",
   "execution_count": 18,
   "id": "2a14b032-43ef-457b-8975-4232190c7cef",
   "metadata": {},
   "outputs": [],
   "source": [
    "# samples features \n",
    "def sample_features_from_partition(part_no, start_part, end_part, sample_feature=None):\n",
    "    \n",
    "    # create a local version of kappa_rando\n",
    "    l_kappa_random = kappa_random\n",
    "    if kappa_random == -1: # compare with global var\n",
    "        l_kappa_random = kappa # define local var\n",
    "    \n",
    "    # number of samples per partition in relation to partition size\n",
    "    if part_no == 0: # train, random window sampling \n",
    "        kp = math.floor(k * l_kappa_random)\n",
    "    elif part_no == 1: # train, consecutive window sampling\n",
    "        kp = math.floor(k * round((kappa - l_kappa_random),1))\n",
    "    elif part_no == 2: # eval, consecutive window sampling\n",
    "        kp = math.floor(k * round((1 - kappa),1))\n",
    "\n",
    "    for j in h:\n",
    "        for i in w:\n",
    "            if part_no == 0: # train, random window sampling\n",
    "                win_start = rand_window_idx(kp, i, j, stock_start=start_part, stock_end=min(end_part+j, len(stock)))\n",
    "            elif part_no == 1: # train, consecutive window sampling\n",
    "                start_range = max(end_part-kp-i+1,0) # dec i and inc 1 to stay in partition at end_window\n",
    "                end_range = max(end_part-i+1, start_range)\n",
    "                win_start = [r for r in range(start_range,end_range)]\n",
    "            elif part_no == 2: # eval, consecutive window sampling\n",
    "                start_range = max(start_part-i+1,0) # dec i and inc 1 to stay in partition at end_window\n",
    "                end_range = max(start_part+kp-i+1, start_range)\n",
    "                win_start = [r for r in range(start_range,end_range)]\n",
    "                if kappa_random == -1: # eval, random window sampling\n",
    "                    start_range = max(start_part-i+1, 0) # dec i and inc 1 to stay in partition at end_window\n",
    "                    win_start = rand_window_idx(kp, i, j, stock_start=start_range)\n",
    "            # extract feature vectors from stock_features\n",
    "            for win_start_idx in win_start:\n",
    "                sample_feature.append(stock_feature(win_start_idx, i, j))\n"
   ]
  },
  {
   "cell_type": "code",
   "execution_count": 19,
   "id": "5ea11789-78f9-4002-a038-89c168e6638c",
   "metadata": {},
   "outputs": [],
   "source": [
    "# go through all partitions and perform sampling\n",
    "# store result in the feature_set list\n",
    "feature_set = list()\n",
    "\n",
    "for s,e,p in partition_edges():\n",
    "    sample_features_from_partition(p, s, e, sample_feature=feature_set)\n",
    "\n",
    "# final set has a number of vectors from all parameter combinations\n",
    "assert k*m*m == len(feature_set)"
   ]
  },
  {
   "cell_type": "markdown",
   "id": "2b4175af-80cb-43dc-9c58-43f4b27f57e0",
   "metadata": {},
   "source": [
    "## Store Features in `.parquet` File\n",
    "\n",
    "Output file names are values in variables `train_data_file` and `eval_data_file`."
   ]
  },
  {
   "cell_type": "code",
   "execution_count": 20,
   "id": "4e9e79ec-4614-4cf5-a4fe-210b57ab5b8d",
   "metadata": {},
   "outputs": [],
   "source": [
    "# compile list with training vecs, write to train_csv_file\n",
    "train_set_list = [f for f in feature_set if f.iloc[0]['partition'] == 0 or f.iloc[0]['partition'] == 1]\n",
    "train_set_df = pd.concat(train_set_list)\n",
    "train_set = train_set_df.copy() # copy defragments dataframe\n",
    "#train_set.to_csv(path_or_buf=train_csv_file, mode='w', header=True, sep=',', na_rep='N/A', index=True, doublequote=True, escapechar=None, decimal='.', )\n",
    "train_set.to_parquet(path=train_data_file, index=True)"
   ]
  },
  {
   "cell_type": "code",
   "execution_count": 21,
   "id": "c9c9352a-408a-42c3-8ef4-43a4da739ca8",
   "metadata": {},
   "outputs": [],
   "source": [
    "# compile list with eval(test) vecs, write to eval_csv_file\n",
    "eval_set_list = [f for f in feature_set if f.iloc[0]['partition'] == 2]\n",
    "eval_set_df = pd.concat(eval_set_list)\n",
    "eval_set = eval_set_df.copy() # copy defragments dataframe\n",
    "#eval_set.to_csv(path_or_buf=eval_csv_file, mode='w', header=True, sep=',', na_rep='N/A', index=True, doublequote=True, escapechar=None, decimal='.', )\n",
    "eval_set.to_parquet(path=eval_data_file, index=True)"
   ]
  },
  {
   "cell_type": "markdown",
   "id": "e97ac0fe-5269-471c-b3a7-3fe438c3c36b",
   "metadata": {},
   "source": [
    "## Test `.parquet` files"
   ]
  },
  {
   "cell_type": "code",
   "execution_count": 22,
   "id": "94d8741b-26da-4bec-8426-aebad0999c39",
   "metadata": {},
   "outputs": [],
   "source": [
    "# read parquet file and compile columns names as string\n",
    "# compare with data_sets\n",
    "files = [train_data_file, eval_data_file]\n",
    "data_sets = [train_set, eval_set]\n",
    "part = [kappa, 1-kappa]\n",
    "\n",
    "for f,d,p in zip(files, data_sets, part):\n",
    "    df = pd.read_parquet(f)\n",
    "    columns_str = ''.join(df.columns)\n",
    "    header_str = ''.join(d.columns)\n",
    "    assert header_str == columns_str # compare attributes\n",
    "    assert len(d) == len(df) # compare number of rows: data_set and file\n",
    "    assert math.floor(k*m*m*p) == len(df) # # compare number of rows with partition"
   ]
  },
  {
   "cell_type": "markdown",
   "id": "544ccaf1-f972-4746-aff0-fbeff1088148",
   "metadata": {},
   "source": [
    "## Create YAML file for ludwig\n",
    "\n",
    "This is left over work. See `/YASMaPE/src/ludwig/setupyaml.sk` to setup initial ludwig config files. "
   ]
  },
  {
   "cell_type": "code",
   "execution_count": 23,
   "id": "5bdbb501-6162-4b7f-bcd3-9708ba31f188",
   "metadata": {},
   "outputs": [],
   "source": [
    "f = feature_set[0]\n",
    "input_feature_attributes = [n for n in f.columns.tolist() if n not in ['price', 'return', 'ret_horizon', 'partition']]\n",
    "\n",
    "for n in input_feature_attributes :\n",
    "    s = ' ' * 4\n",
    "    s += '-\\n'\n",
    "    s += ' ' * 8\n",
    "    s += 'name: ' + n + '\\n' \n",
    "    s += ' ' * 8\n",
    "    s += 'type: number'\n",
    "    s += '\\n'\n",
    "    #print(s)"
   ]
  },
  {
   "cell_type": "code",
   "execution_count": null,
   "id": "7634fc8c-bd2e-4e56-b087-13b7c5a58010",
   "metadata": {},
   "outputs": [],
   "source": []
  }
 ],
 "metadata": {
  "kernelspec": {
   "display_name": "Python 3 (ipykernel)",
   "language": "python",
   "name": "python3"
  },
  "language_info": {
   "codemirror_mode": {
    "name": "ipython",
    "version": 3
   },
   "file_extension": ".py",
   "mimetype": "text/x-python",
   "name": "python",
   "nbconvert_exporter": "python",
   "pygments_lexer": "ipython3",
   "version": "3.10.6"
  }
 },
 "nbformat": 4,
 "nbformat_minor": 5
}
