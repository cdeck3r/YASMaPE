{
 "cells": [
  {
   "cell_type": "markdown",
   "id": "c62ee89a-804d-4748-b191-4f072bed3af7",
   "metadata": {},
   "source": [
    "# Feature Analysis\n",
    "\n",
    "This notebook computes some statistics on the feature distribution."
   ]
  },
  {
   "cell_type": "markdown",
   "id": "0d45c1c2-17f7-418e-a269-85f318197b84",
   "metadata": {},
   "source": [
    "**Some variables**"
   ]
  },
  {
   "cell_type": "code",
   "execution_count": 1,
   "id": "f63a7155-acb8-4294-a830-e972a54416f2",
   "metadata": {},
   "outputs": [],
   "source": [
    "input_csv_file = './DBK.DE_eval_set.csv'"
   ]
  },
  {
   "cell_type": "code",
   "execution_count": 2,
   "id": "286c03fc-14d8-494e-a66f-cc91a268942a",
   "metadata": {},
   "outputs": [],
   "source": [
    "# imports\n",
    "import pandas as pd\n",
    "import random\n",
    "import math\n",
    "from datetime import date\n",
    "import datetime\n",
    "#from datetime import timedelta\n",
    "\n",
    "# plotting\n",
    "from matplotlib import pyplot as plt\n",
    "%matplotlib inline\n",
    "import seaborn as sns\n",
    "import matplotlib.style as style \n",
    "import numpy as np"
   ]
  },
  {
   "cell_type": "markdown",
   "id": "bf6dfb35-9354-415a-9ebe-8ffbbdd80479",
   "metadata": {},
   "source": [
    "## Load csv data\n",
    "\n",
    "We assume a csv file containing stock prices with features from `colnames`."
   ]
  },
  {
   "cell_type": "code",
   "execution_count": 3,
   "id": "ba6b18fc-a1b6-4539-937e-b357a12faa30",
   "metadata": {},
   "outputs": [],
   "source": [
    "# import features\n",
    "features = pd.read_csv(input_csv_file, header='infer', delimiter=',',  decimal='.', index_col='date')\n",
    "# sort by date ascending \n",
    "features.sort_index(ascending=True, inplace=True)"
   ]
  },
  {
   "cell_type": "code",
   "execution_count": 4,
   "id": "b424e31d-fac9-480e-91fc-dda09fdeea8d",
   "metadata": {},
   "outputs": [
    {
     "data": {
      "text/plain": [
       "(6400, 71)"
      ]
     },
     "execution_count": 4,
     "metadata": {},
     "output_type": "execute_result"
    }
   ],
   "source": [
    "features.shape"
   ]
  },
  {
   "cell_type": "code",
   "execution_count": 5,
   "id": "808c5bbd-e1b4-4b13-bd35-08f940e0521a",
   "metadata": {},
   "outputs": [
    {
     "name": "stdout",
     "output_type": "stream",
     "text": [
      "First index: 2022-04-13\n",
      "Last index: 2022-08-25\n"
     ]
    }
   ],
   "source": [
    "print(\"First index: {}\".format(features.index[0]))\n",
    "print(\"Last index: {}\".format(features.index[-1]))"
   ]
  },
  {
   "cell_type": "markdown",
   "id": "cd22464b-3f66-4655-b4f5-b17d5dab55ff",
   "metadata": {},
   "source": [
    "## Descriptive Statistics\n",
    "\n",
    "* Feature statistics\n",
    "* return statistics\n",
    "* date statistics"
   ]
  },
  {
   "cell_type": "code",
   "execution_count": 6,
   "id": "83c8ca81-8ea8-47a6-b6c8-b544bab2a458",
   "metadata": {},
   "outputs": [
    {
     "name": "stdout",
     "output_type": "stream",
     "text": [
      "Number of feature vectors: 6400\n",
      "Number of features within a vector: 71\n"
     ]
    }
   ],
   "source": [
    "print(\"Number of feature vectors: {}\".format(features.shape[0]))\n",
    "print(\"Number of features within a vector: {}\".format(features.shape[1]))"
   ]
  },
  {
   "cell_type": "code",
   "execution_count": 7,
   "id": "916a1a6d-904d-4ea7-ad70-807a6bc719cf",
   "metadata": {},
   "outputs": [],
   "source": [
    "# some aux functions\n",
    "# prints the number of positive and negative returns \n",
    "# as well as the ratio of pos. returns \n",
    "def print_posneg_return_count(f):\n",
    "    pos_count = len(f[f['return'] > 0])\n",
    "    neg_count = len(f[f['return'] <= 0])\n",
    "    ratio = pos_count / (pos_count+neg_count) \n",
    "    print(\"Count of positives return: {}\".format(pos_count))\n",
    "    print(\"Count of negative return: {}\".format(neg_count))\n",
    "    print(\"Ratio of positive counts: {}\".format(ratio))"
   ]
  },
  {
   "cell_type": "code",
   "execution_count": 8,
   "id": "8fcf9cbf-c96e-489f-90dd-1d625b68750f",
   "metadata": {},
   "outputs": [
    {
     "name": "stdout",
     "output_type": "stream",
     "text": [
      "Count of positives return: 3646\n",
      "Count of negative return: 2754\n",
      "Ratio of positive counts: 0.5696875\n"
     ]
    }
   ],
   "source": [
    "print_posneg_return_count(features)"
   ]
  },
  {
   "cell_type": "code",
   "execution_count": 9,
   "id": "16ab5c69-0b25-42a5-a1d1-1ef8d2ab2c4a",
   "metadata": {},
   "outputs": [],
   "source": [
    "def print_date_stats(f):\n",
    "    min_date = f.index[0]\n",
    "    max_date = f.index[-1]\n",
    "    date_count = len(set(features.index))\n",
    "    min_date_d = date.fromisoformat(min_date)\n",
    "    max_date_d = date.fromisoformat(max_date)\n",
    "    days = (max_date_d - min_date_d).days\n",
    "    date_density = date_count / days\n",
    "    \n",
    "    print(\"Min date: {}\".format(min_date))\n",
    "    print(\"Max date: {}\".format(max_date))\n",
    "    print(\"Feature dates in between: {}\".format(date_count))\n",
    "    print(\"Date density: {}\".format(date_density))"
   ]
  },
  {
   "cell_type": "code",
   "execution_count": 10,
   "id": "58b10150-c34a-4965-ab74-03527996059b",
   "metadata": {},
   "outputs": [
    {
     "name": "stdout",
     "output_type": "stream",
     "text": [
      "Min date: 2022-04-13\n",
      "Max date: 2022-08-25\n",
      "Feature dates in between: 95\n",
      "Date density: 0.7089552238805971\n"
     ]
    }
   ],
   "source": [
    "print_date_stats(features)"
   ]
  },
  {
   "cell_type": "markdown",
   "id": "a0e13c2f-897b-451e-a3f8-4fc2bad00af9",
   "metadata": {},
   "source": [
    "## Visualizations\n",
    "\n",
    "We plot the `return` distribution within the features and the `date` distribution. "
   ]
  },
  {
   "cell_type": "code",
   "execution_count": 11,
   "id": "21555f68-5c16-4058-99cd-350f3421358e",
   "metadata": {},
   "outputs": [],
   "source": [
    "f=features[['win_len', 'ret_horizon', 'return']]\n",
    "f.reset_index(inplace=True)"
   ]
  },
  {
   "cell_type": "code",
   "execution_count": 12,
   "id": "fbc1c857-ede4-4265-8464-fdd3558ed8b3",
   "metadata": {},
   "outputs": [],
   "source": [
    "style.use('seaborn-notebook')\n",
    "style.use('seaborn-white')"
   ]
  },
  {
   "cell_type": "code",
   "execution_count": 19,
   "id": "52ccd4f5-cdf5-40f1-b7e5-44e80d3b1c25",
   "metadata": {},
   "outputs": [
    {
     "data": {
      "text/plain": [
       "<AxesSubplot:xlabel='return', ylabel='Probability'>"
      ]
     },
     "execution_count": 19,
     "metadata": {},
     "output_type": "execute_result"
    },
    {
     "data": {
      "image/png": "[encoded data removed]",
      "text/plain": [
       "<Figure size 800x550 with 1 Axes>"
      ]
     },
     "metadata": {},
     "output_type": "display_data"
    }
   ],
   "source": [
    "sns.histplot(data=f, x='return', stat='probability', kde=True)"
   ]
  },
  {
   "cell_type": "markdown",
   "id": "d831e53b-401d-4550-bbc4-244262d1d0b8",
   "metadata": {},
   "source": [
    "Prepare the data for the `date` distribution. "
   ]
  },
  {
   "cell_type": "code",
   "execution_count": 14,
   "id": "b5554605-ba43-4741-b2f4-edcda21d6888",
   "metadata": {},
   "outputs": [],
   "source": [
    "features_date_df = pd.DataFrame(data=set(features.index), columns=['date'])\n",
    "features_date_df['date'] = pd.to_datetime(features_date_df['date'])\n",
    "#features_date_df['count'] = 1\n",
    "features_date_df.sort_values(by=['date'], ascending=True, inplace=True) "
   ]
  },
  {
   "cell_type": "code",
   "execution_count": 15,
   "id": "029131ce-7378-4b3c-ad4f-3075b1ec05b5",
   "metadata": {},
   "outputs": [
    {
     "data": {
      "text/plain": [
       "<AxesSubplot:xlabel='date', ylabel='Count'>"
      ]
     },
     "execution_count": 15,
     "metadata": {},
     "output_type": "execute_result"
    },
    {
     "data": {
      "image/png": "[encoded data removed]",
      "text/plain": [
       "<Figure size 800x550 with 1 Axes>"
      ]
     },
     "metadata": {},
     "output_type": "display_data"
    }
   ],
   "source": [
    "sns.histplot(data=features_date_df, x='date', bins='auto')"
   ]
  },
  {
   "cell_type": "markdown",
   "id": "c2f98873-d322-45b9-b9ed-bc9309d4b8a7",
   "metadata": {},
   "source": [
    "We now investigate the `date` distribution towards the youngest date. The fokus is on the distribution of the `date` in the interval between the last (youngest) date and `days_back`. Firstly, we plot a histogram to spot gaps and secondly, we quantify how uniform the distribution is."
   ]
  },
  {
   "cell_type": "code",
   "execution_count": 16,
   "id": "3f1e5ec9-481e-4772-be66-3104b5f06d4f",
   "metadata": {},
   "outputs": [
    {
     "data": {
      "text/plain": [
       "<AxesSubplot:xlabel='date', ylabel='Count'>"
      ]
     },
     "execution_count": 16,
     "metadata": {},
     "output_type": "execute_result"
    },
    {
     "data": {
      "image/png": "[encoded data removed]",
      "text/plain": [
       "<Figure size 800x550 with 1 Axes>"
      ]
     },
     "metadata": {},
     "output_type": "display_data"
    }
   ],
   "source": [
    "# number of days to look back from max_date\n",
    "days_back = 20\n",
    "\n",
    "max_date = features_date_df.iloc[-1]\n",
    "towards_last_days = max_date['date'] - datetime.timedelta(days=days_back)\n",
    "features_last_dates = features_date_df[features_date_df['date'] > towards_last_days]\n",
    "\n",
    "sns.histplot(data=features_last_dates, x='date', bins=days_back)"
   ]
  },
  {
   "cell_type": "code",
   "execution_count": 17,
   "id": "926e0e7d-ab6c-444c-8e10-7edc7a7230b5",
   "metadata": {},
   "outputs": [
    {
     "name": "stdout",
     "output_type": "stream",
     "text": [
      "Number of gaps in the last intervall: 6\n",
      "Distribution is not uniform.\n"
     ]
    }
   ],
   "source": [
    "num_gaps = days_back - len(features_last_dates) \n",
    "print(\"Number of gaps in the last intervall: {}\".format(num_gaps))\n",
    "\n",
    "if num_gaps > 0:\n",
    "    print(\"Distribution is not uniform.\")\n",
    "else:\n",
    "    print(\"Distribution is uniform.\")"
   ]
  },
  {
   "cell_type": "code",
   "execution_count": null,
   "id": "fc8924fd-467d-4570-9cbd-128677eddff4",
   "metadata": {},
   "outputs": [],
   "source": []
  },
  {
   "cell_type": "code",
   "execution_count": null,
   "id": "2a87baa9-af85-48f6-a339-e8250667b9f3",
   "metadata": {},
   "outputs": [],
   "source": []
  }
 ],
 "metadata": {
  "kernelspec": {
   "display_name": "Python 3 (ipykernel)",
   "language": "python",
   "name": "python3"
  },
  "language_info": {
   "codemirror_mode": {
    "name": "ipython",
    "version": 3
   },
   "file_extension": ".py",
   "mimetype": "text/x-python",
   "name": "python",
   "nbconvert_exporter": "python",
   "pygments_lexer": "ipython3",
   "version": "3.10.6"
  }
 },
 "nbformat": 4,
 "nbformat_minor": 5
}
