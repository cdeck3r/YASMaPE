{
 "cells": [
  {
   "cell_type": "markdown",
   "id": "d57bd536-01d3-43e8-be7b-fa538097cc86",
   "metadata": {},
   "source": [
    "# Modelcard test baloon\n",
    "\n",
    "Source: https://github.com/tensorflow/model-card-toolkit"
   ]
  },
  {
   "cell_type": "code",
   "execution_count": null,
   "id": "f4c164ec-0fa1-49a1-b364-04ea37d739da",
   "metadata": {
    "tags": []
   },
   "outputs": [],
   "source": []
  },
  {
   "cell_type": "markdown",
   "id": "3b7275c3-4fc5-4837-92d8-2c82747eae3e",
   "metadata": {},
   "source": [
    "#### Install and import"
   ]
  },
  {
   "cell_type": "code",
   "execution_count": 18,
   "id": "3ecdc1f4-b1fb-46c8-aafd-38ac089dbed9",
   "metadata": {},
   "outputs": [
    {
     "name": "stdout",
     "output_type": "stream",
     "text": [
      "Handling run-time error:  No module named 'verifyml'\n",
      "Will now install missing module.\n",
      "Collecting verifyml\n",
      "  Downloading verifyml-0.0.6-py3-none-any.whl (136 kB)\n",
      "\u001b[2K     \u001b[90m━━━━━━━━━━━━━━━━━━━━━━━━━━━━━━━━━━━━━\u001b[0m \u001b[32m136.8/136.8 kB\u001b[0m \u001b[31m778.0 kB/s\u001b[0m eta \u001b[36m0:00:00\u001b[0ma \u001b[36m0:00:01\u001b[0m\n",
      "\u001b[?25hCollecting pyparsing<3.0.0a0,>=2.4.2\n",
      "  Downloading pyparsing-2.4.7-py2.py3-none-any.whl (67 kB)\n",
      "\u001b[2K     \u001b[90m━━━━━━━━━━━━━━━━━━━━━━━━━━━━━━━━━━━━━━━━\u001b[0m \u001b[32m67.8/67.8 kB\u001b[0m \u001b[31m3.5 MB/s\u001b[0m eta \u001b[36m0:00:00\u001b[0m\n",
      "\u001b[?25hRequirement already satisfied: numba>=0.55.0 in /opt/conda/lib/python3.10/site-packages (from verifyml) (0.55.2)\n",
      "Collecting semantic-version>=2.8.0\n",
      "  Using cached semantic_version-2.10.0-py2.py3-none-any.whl (15 kB)\n",
      "Requirement already satisfied: jsonschema>=3.2.0 in /opt/conda/lib/python3.10/site-packages (from verifyml) (4.15.0)\n",
      "Requirement already satisfied: scikit-learn>=1.0 in /opt/conda/lib/python3.10/site-packages (from verifyml) (1.1.2)\n",
      "Requirement already satisfied: numpy>=1.2 in /opt/conda/lib/python3.10/site-packages (from verifyml) (1.22.4)\n",
      "Collecting scour>=0.37\n",
      "  Downloading scour-0.38.2.tar.gz (52 kB)\n",
      "\u001b[2K     \u001b[90m━━━━━━━━━━━━━━━━━━━━━━━━━━━━━━━━━━━━━━━━\u001b[0m \u001b[32m52.9/52.9 kB\u001b[0m \u001b[31m4.2 MB/s\u001b[0m eta \u001b[36m0:00:00\u001b[0m\n",
      "\u001b[?25h  Preparing metadata (setup.py) ... \u001b[?25ldone\n",
      "\u001b[?25hRequirement already satisfied: matplotlib>=3.2.0 in /opt/conda/lib/python3.10/site-packages (from verifyml) (3.5.3)\n",
      "Requirement already satisfied: jinja2>=2.10 in /opt/conda/lib/python3.10/site-packages (from verifyml) (3.1.2)\n",
      "Requirement already satisfied: protobuf>=3.18.0 in /opt/conda/lib/python3.10/site-packages (from verifyml) (3.19.5)\n",
      "Collecting category-encoders>=2.2.2\n",
      "  Downloading category_encoders-2.5.0-py2.py3-none-any.whl (69 kB)\n",
      "\u001b[2K     \u001b[90m━━━━━━━━━━━━━━━━━━━━━━━━━━━━━━━━━━━━━━━━\u001b[0m \u001b[32m69.1/69.1 kB\u001b[0m \u001b[31m5.2 MB/s\u001b[0m eta \u001b[36m0:00:00\u001b[0m\n",
      "\u001b[?25hCollecting shap>=0.39.0\n",
      "  Downloading shap-0.41.0-cp310-cp310-manylinux_2_12_x86_64.manylinux2010_x86_64.whl (572 kB)\n",
      "\u001b[2K     \u001b[90m━━━━━━━━━━━━━━━━━━━━━━━━━━━━━━━━━━━━━━━\u001b[0m \u001b[32m572.6/572.6 kB\u001b[0m \u001b[31m2.3 MB/s\u001b[0m eta \u001b[36m0:00:00\u001b[0ma \u001b[36m0:00:01\u001b[0m\n",
      "\u001b[?25hRequirement already satisfied: absl-py>=0.9 in /opt/conda/lib/python3.10/site-packages (from verifyml) (1.2.0)\n",
      "Requirement already satisfied: patsy>=0.5.1 in /opt/conda/lib/python3.10/site-packages (from category-encoders>=2.2.2->verifyml) (0.5.2)\n",
      "Requirement already satisfied: statsmodels>=0.9.0 in /opt/conda/lib/python3.10/site-packages (from category-encoders>=2.2.2->verifyml) (0.13.2)\n",
      "Requirement already satisfied: pandas>=1.0.5 in /opt/conda/lib/python3.10/site-packages (from category-encoders>=2.2.2->verifyml) (1.4.4)\n",
      "Requirement already satisfied: scipy>=1.0.0 in /opt/conda/lib/python3.10/site-packages (from category-encoders>=2.2.2->verifyml) (1.9.1)\n",
      "Requirement already satisfied: MarkupSafe>=2.0 in /opt/conda/lib/python3.10/site-packages (from jinja2>=2.10->verifyml) (2.1.1)\n",
      "Requirement already satisfied: pyrsistent!=0.17.0,!=0.17.1,!=0.17.2,>=0.14.0 in /opt/conda/lib/python3.10/site-packages (from jsonschema>=3.2.0->verifyml) (0.18.1)\n",
      "Requirement already satisfied: attrs>=17.4.0 in /opt/conda/lib/python3.10/site-packages (from jsonschema>=3.2.0->verifyml) (22.1.0)\n",
      "Requirement already satisfied: pillow>=6.2.0 in /opt/conda/lib/python3.10/site-packages (from matplotlib>=3.2.0->verifyml) (9.2.0)\n",
      "Requirement already satisfied: packaging>=20.0 in /opt/conda/lib/python3.10/site-packages (from matplotlib>=3.2.0->verifyml) (21.3)\n",
      "Requirement already satisfied: fonttools>=4.22.0 in /opt/conda/lib/python3.10/site-packages (from matplotlib>=3.2.0->verifyml) (4.37.1)\n",
      "Requirement already satisfied: python-dateutil>=2.7 in /opt/conda/lib/python3.10/site-packages (from matplotlib>=3.2.0->verifyml) (2.8.2)\n",
      "Requirement already satisfied: kiwisolver>=1.0.1 in /opt/conda/lib/python3.10/site-packages (from matplotlib>=3.2.0->verifyml) (1.4.4)\n",
      "Requirement already satisfied: cycler>=0.10 in /opt/conda/lib/python3.10/site-packages (from matplotlib>=3.2.0->verifyml) (0.11.0)\n",
      "Requirement already satisfied: setuptools in /opt/conda/lib/python3.10/site-packages (from numba>=0.55.0->verifyml) (65.3.0)\n",
      "Requirement already satisfied: llvmlite<0.39,>=0.38.0rc1 in /opt/conda/lib/python3.10/site-packages (from numba>=0.55.0->verifyml) (0.38.1)\n",
      "Requirement already satisfied: threadpoolctl>=2.0.0 in /opt/conda/lib/python3.10/site-packages (from scikit-learn>=1.0->verifyml) (3.1.0)\n",
      "Requirement already satisfied: joblib>=1.0.0 in /opt/conda/lib/python3.10/site-packages (from scikit-learn>=1.0->verifyml) (1.1.0)\n",
      "Requirement already satisfied: six>=1.9.0 in /opt/conda/lib/python3.10/site-packages (from scour>=0.37->verifyml) (1.16.0)\n",
      "Requirement already satisfied: tqdm>4.25.0 in /opt/conda/lib/python3.10/site-packages (from shap>=0.39.0->verifyml) (4.64.1)\n",
      "Collecting slicer==0.0.7\n",
      "  Downloading slicer-0.0.7-py3-none-any.whl (14 kB)\n",
      "Requirement already satisfied: cloudpickle in /opt/conda/lib/python3.10/site-packages (from shap>=0.39.0->verifyml) (2.1.0)\n",
      "Requirement already satisfied: pytz>=2020.1 in /opt/conda/lib/python3.10/site-packages (from pandas>=1.0.5->category-encoders>=2.2.2->verifyml) (2022.2.1)\n",
      "Building wheels for collected packages: scour\n",
      "  Building wheel for scour (setup.py) ... \u001b[?25ldone\n",
      "\u001b[?25h  Created wheel for scour: filename=scour-0.38.2-py3-none-any.whl size=54252 sha256=7ffc7c7d69d0f3e4e3e7ca8d4d3b7f677653d8cbc0cf2ca48ee2cc1826852736\n",
      "  Stored in directory: /home/jovyan/.cache/pip/wheels/84/78/74/235abc82aa043a4db23338b7c491a44a20ee824db6710de1fd\n",
      "Successfully built scour\n",
      "Installing collected packages: slicer, semantic-version, scour, pyparsing, shap, category-encoders, verifyml\n",
      "  Attempting uninstall: pyparsing\n",
      "    Found existing installation: pyparsing 3.0.9\n",
      "    Uninstalling pyparsing-3.0.9:\n",
      "      Successfully uninstalled pyparsing-3.0.9\n",
      "Successfully installed category-encoders-2.5.0 pyparsing-2.4.7 scour-0.38.2 semantic-version-2.10.0 shap-0.41.0 slicer-0.0.7 verifyml-0.0.6\n"
     ]
    }
   ],
   "source": [
    "# Install a pip module in the current Jupyter kernel\n",
    "import sys\n",
    "\n",
    "try:\n",
    "    import verifyml.model_card_toolkit as mctlib\n",
    "except ImportError as err:\n",
    "    print(\"Handling run-time error: \", err)\n",
    "    print(\"Will now install missing module.\")\n",
    "    !{sys.executable} -m pip install verifyml"
   ]
  },
  {
   "cell_type": "code",
   "execution_count": 114,
   "id": "d47ed3b8-5b80-477d-aab8-e1cb691e19b9",
   "metadata": {},
   "outputs": [],
   "source": [
    "import verifyml.model_card_toolkit as mctlib\n",
    "\n",
    "# Initialize the Model Card Toolkit with a path to store generate assets\n",
    "mct = mctlib.ModelCardToolkit(output_dir=\"model_card_output\", file_name=\"mytestcard\")\n",
    "model_card = mct.scaffold_assets()"
   ]
  },
  {
   "cell_type": "code",
   "execution_count": 115,
   "id": "88f74b59-242d-4dce-abd3-4ee599f50e8d",
   "metadata": {},
   "outputs": [],
   "source": [
    "# You can add free text fields\n",
    "#model_card.model_details.clear()\n",
    "model_card.model_details.name = 'testcards Experiment'\n",
    "#model_card.model_details.owners = 'Christian Decker'\n",
    "model_card.model_details.overview = \"Details Overview text\"\n",
    "#model_card.model_details.version = 'v0.1'\n",
    "\n",
    "# Or use helper classes\n",
    "#model_card.model_parameters.data.append(mctlib.Dataset())\n"
   ]
  },
  {
   "cell_type": "code",
   "execution_count": 94,
   "id": "bf48dd15-56d4-40fe-bd27-dbf1976ddd98",
   "metadata": {},
   "outputs": [
    {
     "data": {
      "text/plain": [
       "{'name': 'testcards Experiment',\n",
       " 'overview': 'Details Overview text',\n",
       " 'documentation': 'Some doc text'}"
      ]
     },
     "execution_count": 94,
     "metadata": {},
     "output_type": "execute_result"
    }
   ],
   "source": [
    "model_card.model_details.to_dict()"
   ]
  },
  {
   "cell_type": "code",
   "execution_count": 118,
   "id": "b42a60fe-85fe-4e92-b9fe-479be4b80410",
   "metadata": {},
   "outputs": [],
   "source": [
    "model_card.model_details.documentation = 'Some doc text'\n",
    "model_card.model_details.version.name='version name'\n",
    "model_card.model_details.version.date='2022-09-26'\n",
    "model_card.model_details.licenses = ['MIT']"
   ]
  },
  {
   "cell_type": "code",
   "execution_count": 119,
   "id": "b09996fc-1065-4a22-a70a-50f9c179b199",
   "metadata": {},
   "outputs": [
    {
     "ename": "AttributeError",
     "evalue": "'str' object has no attribute 'to_proto'",
     "output_type": "error",
     "traceback": [
      "\u001b[0;31m---------------------------------------------------------------------------\u001b[0m",
      "\u001b[0;31mAttributeError\u001b[0m                            Traceback (most recent call last)",
      "Input \u001b[0;32mIn [119]\u001b[0m, in \u001b[0;36m<cell line: 1>\u001b[0;34m()\u001b[0m\n\u001b[0;32m----> 1\u001b[0m \u001b[43mmct\u001b[49m\u001b[38;5;241;43m.\u001b[39;49m\u001b[43mupdate_model_card\u001b[49m\u001b[43m(\u001b[49m\u001b[43mmodel_card\u001b[49m\u001b[43m)\u001b[49m\n\u001b[1;32m      2\u001b[0m html \u001b[38;5;241m=\u001b[39m mct\u001b[38;5;241m.\u001b[39mexport_format(output_file\u001b[38;5;241m=\u001b[39m\u001b[38;5;124m\"\u001b[39m\u001b[38;5;124mexample.html\u001b[39m\u001b[38;5;124m\"\u001b[39m)\n",
      "File \u001b[0;32m/opt/conda/lib/python3.10/site-packages/verifyml/model_card_toolkit/model_card_toolkit.py:224\u001b[0m, in \u001b[0;36mModelCardToolkit.update_model_card\u001b[0;34m(self, model_card)\u001b[0m\n\u001b[1;32m    215\u001b[0m \u001b[38;5;28;01mdef\u001b[39;00m \u001b[38;5;21mupdate_model_card\u001b[39m(\u001b[38;5;28mself\u001b[39m, model_card: ModelCard) \u001b[38;5;241m-\u001b[39m\u001b[38;5;241m>\u001b[39m \u001b[38;5;28;01mNone\u001b[39;00m:\n\u001b[1;32m    216\u001b[0m     \u001b[38;5;124;03m\"\"\"Updates the Proto file in the MCT assets directory.\u001b[39;00m\n\u001b[1;32m    217\u001b[0m \n\u001b[1;32m    218\u001b[0m \u001b[38;5;124;03m    Args:\u001b[39;00m\n\u001b[0;32m   (...)\u001b[0m\n\u001b[1;32m    222\u001b[0m \u001b[38;5;124;03m       Error: when the given model_card is invalid w.r.t. the schema.\u001b[39;00m\n\u001b[1;32m    223\u001b[0m \u001b[38;5;124;03m    \"\"\"\u001b[39;00m\n\u001b[0;32m--> 224\u001b[0m     \u001b[38;5;28;43mself\u001b[39;49m\u001b[38;5;241;43m.\u001b[39;49m\u001b[43m_write_proto_file\u001b[49m\u001b[43m(\u001b[49m\u001b[38;5;28;43mself\u001b[39;49m\u001b[38;5;241;43m.\u001b[39;49m\u001b[43m_mcta_proto_file\u001b[49m\u001b[43m,\u001b[49m\u001b[43m \u001b[49m\u001b[43mmodel_card\u001b[49m\u001b[43m)\u001b[49m\n",
      "File \u001b[0;32m/opt/conda/lib/python3.10/site-packages/verifyml/model_card_toolkit/model_card_toolkit.py:131\u001b[0m, in \u001b[0;36mModelCardToolkit._write_proto_file\u001b[0;34m(self, path, model_card)\u001b[0m\n\u001b[1;32m    129\u001b[0m os\u001b[38;5;241m.\u001b[39mmakedirs(os\u001b[38;5;241m.\u001b[39mpath\u001b[38;5;241m.\u001b[39mdirname(path), exist_ok\u001b[38;5;241m=\u001b[39m\u001b[38;5;28;01mTrue\u001b[39;00m)\n\u001b[1;32m    130\u001b[0m \u001b[38;5;28;01mwith\u001b[39;00m \u001b[38;5;28mopen\u001b[39m(path, \u001b[38;5;124m\"\u001b[39m\u001b[38;5;124mwb\u001b[39m\u001b[38;5;124m\"\u001b[39m) \u001b[38;5;28;01mas\u001b[39;00m f:\n\u001b[0;32m--> 131\u001b[0m     f\u001b[38;5;241m.\u001b[39mwrite(\u001b[43mmodel_card\u001b[49m\u001b[38;5;241;43m.\u001b[39;49m\u001b[43mto_proto\u001b[49m\u001b[43m(\u001b[49m\u001b[43m)\u001b[49m\u001b[38;5;241m.\u001b[39mSerializeToString())\n",
      "File \u001b[0;32m/opt/conda/lib/python3.10/site-packages/verifyml/model_card_toolkit/base_model_card_field.py:67\u001b[0m, in \u001b[0;36mBaseModelCardField.to_proto\u001b[0;34m(self)\u001b[0m\n\u001b[1;32m     62\u001b[0m             \u001b[38;5;28mgetattr\u001b[39m(proto, field_name)\u001b[38;5;241m.\u001b[39madd()\u001b[38;5;241m.\u001b[39mCopyFrom(\n\u001b[1;32m     63\u001b[0m                 nested_message\u001b[38;5;241m.\u001b[39mto_proto()\n\u001b[1;32m     64\u001b[0m             )  \u001b[38;5;66;03m# pylint: disable=protected-access\u001b[39;00m\n\u001b[1;32m     65\u001b[0m     \u001b[38;5;28;01melse\u001b[39;00m:\n\u001b[1;32m     66\u001b[0m         \u001b[38;5;28mgetattr\u001b[39m(proto, field_name)\u001b[38;5;241m.\u001b[39mCopyFrom(\n\u001b[0;32m---> 67\u001b[0m             \u001b[43mfield_value\u001b[49m\u001b[38;5;241;43m.\u001b[39;49m\u001b[43mto_proto\u001b[49m\u001b[43m(\u001b[49m\u001b[43m)\u001b[49m\n\u001b[1;32m     68\u001b[0m         )  \u001b[38;5;66;03m# pylint: disable=protected-access\u001b[39;00m\n\u001b[1;32m     69\u001b[0m \u001b[38;5;66;03m# Process Non-Message type\u001b[39;00m\n\u001b[1;32m     70\u001b[0m \u001b[38;5;28;01melse\u001b[39;00m:\n\u001b[1;32m     71\u001b[0m     \u001b[38;5;28;01mif\u001b[39;00m field_descriptor\u001b[38;5;241m.\u001b[39mlabel \u001b[38;5;241m==\u001b[39m descriptor\u001b[38;5;241m.\u001b[39mFieldDescriptor\u001b[38;5;241m.\u001b[39mLABEL_REPEATED:\n",
      "File \u001b[0;32m/opt/conda/lib/python3.10/site-packages/verifyml/model_card_toolkit/base_model_card_field.py:63\u001b[0m, in \u001b[0;36mBaseModelCardField.to_proto\u001b[0;34m(self)\u001b[0m\n\u001b[1;32m     60\u001b[0m \u001b[38;5;28;01mif\u001b[39;00m field_descriptor\u001b[38;5;241m.\u001b[39mlabel \u001b[38;5;241m==\u001b[39m descriptor\u001b[38;5;241m.\u001b[39mFieldDescriptor\u001b[38;5;241m.\u001b[39mLABEL_REPEATED:\n\u001b[1;32m     61\u001b[0m     \u001b[38;5;28;01mfor\u001b[39;00m nested_message \u001b[38;5;129;01min\u001b[39;00m field_value:\n\u001b[1;32m     62\u001b[0m         \u001b[38;5;28mgetattr\u001b[39m(proto, field_name)\u001b[38;5;241m.\u001b[39madd()\u001b[38;5;241m.\u001b[39mCopyFrom(\n\u001b[0;32m---> 63\u001b[0m             \u001b[43mnested_message\u001b[49m\u001b[38;5;241;43m.\u001b[39;49m\u001b[43mto_proto\u001b[49m()\n\u001b[1;32m     64\u001b[0m         )  \u001b[38;5;66;03m# pylint: disable=protected-access\u001b[39;00m\n\u001b[1;32m     65\u001b[0m \u001b[38;5;28;01melse\u001b[39;00m:\n\u001b[1;32m     66\u001b[0m     \u001b[38;5;28mgetattr\u001b[39m(proto, field_name)\u001b[38;5;241m.\u001b[39mCopyFrom(\n\u001b[1;32m     67\u001b[0m         field_value\u001b[38;5;241m.\u001b[39mto_proto()\n\u001b[1;32m     68\u001b[0m     )  \u001b[38;5;66;03m# pylint: disable=protected-access\u001b[39;00m\n",
      "\u001b[0;31mAttributeError\u001b[0m: 'str' object has no attribute 'to_proto'"
     ]
    }
   ],
   "source": [
    "mct.update_model_card(model_card)\n",
    "html = mct.export_format(output_file=\"example.html\")\n",
    "#display.display(display.HTML(html))"
   ]
  },
  {
   "cell_type": "code",
   "execution_count": 106,
   "id": "629a370e-ecaa-4075-b0e9-fc26edf3062f",
   "metadata": {},
   "outputs": [],
   "source": [
    "model_card.model_details.version.name='version name'\n",
    "model_card.model_details.version.date='2022-09-26'\n",
    "model_card.model_details.licenses = ['MIT', 'GPL']"
   ]
  },
  {
   "cell_type": "code",
   "execution_count": 105,
   "id": "85979742-262d-4214-8d90-c85cd830fad7",
   "metadata": {},
   "outputs": [
    {
     "data": {
      "text/plain": [
       "[]"
      ]
     },
     "execution_count": 105,
     "metadata": {},
     "output_type": "execute_result"
    }
   ],
   "source": [
    "model_card.model_details.licenses"
   ]
  },
  {
   "cell_type": "code",
   "execution_count": 104,
   "id": "17c32388-406c-42aa-9e7d-262793675841",
   "metadata": {},
   "outputs": [
    {
     "data": {
      "text/plain": [
       "['__abstractmethods__',\n",
       " '__annotations__',\n",
       " '__class__',\n",
       " '__dataclass_fields__',\n",
       " '__dataclass_params__',\n",
       " '__delattr__',\n",
       " '__dict__',\n",
       " '__dir__',\n",
       " '__doc__',\n",
       " '__eq__',\n",
       " '__format__',\n",
       " '__ge__',\n",
       " '__getattribute__',\n",
       " '__gt__',\n",
       " '__hash__',\n",
       " '__init__',\n",
       " '__init_subclass__',\n",
       " '__le__',\n",
       " '__lt__',\n",
       " '__match_args__',\n",
       " '__module__',\n",
       " '__ne__',\n",
       " '__new__',\n",
       " '__reduce__',\n",
       " '__reduce_ex__',\n",
       " '__repr__',\n",
       " '__setattr__',\n",
       " '__sizeof__',\n",
       " '__slots__',\n",
       " '__str__',\n",
       " '__subclasshook__',\n",
       " '__weakref__',\n",
       " '_abc_impl',\n",
       " '_from_proto',\n",
       " '_get_type',\n",
       " '_proto_type',\n",
       " 'citations',\n",
       " 'clear',\n",
       " 'copy_from_proto',\n",
       " 'documentation',\n",
       " 'licenses',\n",
       " 'merge_from_proto',\n",
       " 'name',\n",
       " 'overview',\n",
       " 'owners',\n",
       " 'path',\n",
       " 'references',\n",
       " 'regulatory_requirements',\n",
       " 'to_dict',\n",
       " 'to_json',\n",
       " 'to_proto',\n",
       " 'version']"
      ]
     },
     "execution_count": 104,
     "metadata": {},
     "output_type": "execute_result"
    }
   ],
   "source": [
    "dir(model_card.model_details)\n",
    "#dir(model_card)"
   ]
  }
 ],
 "metadata": {
  "kernelspec": {
   "display_name": "Python 3 (ipykernel)",
   "language": "python",
   "name": "python3"
  },
  "language_info": {
   "codemirror_mode": {
    "name": "ipython",
    "version": 3
   },
   "file_extension": ".py",
   "mimetype": "text/x-python",
   "name": "python",
   "nbconvert_exporter": "python",
   "pygments_lexer": "ipython3",
   "version": "3.10.6"
  }
 },
 "nbformat": 4,
 "nbformat_minor": 5
}
